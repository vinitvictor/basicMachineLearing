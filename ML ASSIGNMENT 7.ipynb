{
 "cells": [
  {
   "cell_type": "code",
   "execution_count": 2,
   "metadata": {},
   "outputs": [],
   "source": [
    "import pandas as pd\n",
    "import numpy as np\n",
    "import joblib\n",
    "import seaborn as sns\n",
    "\n",
    "\n",
    "from surprise import SVD\n",
    "from surprise import NMF\n",
    "from surprise import Dataset\n",
    "from surprise.model_selection import cross_validate\n",
    "from surprise import accuracy\n",
    "import os\n",
    "from surprise import  Reader\n",
    "from surprise.model_selection import KFold\n",
    "from surprise import KNNBasic\n"
   ]
  },
  {
   "cell_type": "code",
   "execution_count": 3,
   "metadata": {},
   "outputs": [
    {
     "data": {
      "text/html": [
       "<div>\n",
       "<style scoped>\n",
       "    .dataframe tbody tr th:only-of-type {\n",
       "        vertical-align: middle;\n",
       "    }\n",
       "\n",
       "    .dataframe tbody tr th {\n",
       "        vertical-align: top;\n",
       "    }\n",
       "\n",
       "    .dataframe thead th {\n",
       "        text-align: right;\n",
       "    }\n",
       "</style>\n",
       "<table border=\"1\" class=\"dataframe\">\n",
       "  <thead>\n",
       "    <tr style=\"text-align: right;\">\n",
       "      <th></th>\n",
       "      <th>user</th>\n",
       "      <th>item</th>\n",
       "      <th>rating</th>\n",
       "      <th>timestamp</th>\n",
       "    </tr>\n",
       "  </thead>\n",
       "  <tbody>\n",
       "    <tr>\n",
       "      <td>0</td>\n",
       "      <td>196</td>\n",
       "      <td>242</td>\n",
       "      <td>3</td>\n",
       "      <td>881250949</td>\n",
       "    </tr>\n",
       "    <tr>\n",
       "      <td>1</td>\n",
       "      <td>186</td>\n",
       "      <td>302</td>\n",
       "      <td>3</td>\n",
       "      <td>891717742</td>\n",
       "    </tr>\n",
       "    <tr>\n",
       "      <td>2</td>\n",
       "      <td>22</td>\n",
       "      <td>377</td>\n",
       "      <td>1</td>\n",
       "      <td>878887116</td>\n",
       "    </tr>\n",
       "    <tr>\n",
       "      <td>3</td>\n",
       "      <td>244</td>\n",
       "      <td>51</td>\n",
       "      <td>2</td>\n",
       "      <td>880606923</td>\n",
       "    </tr>\n",
       "    <tr>\n",
       "      <td>4</td>\n",
       "      <td>166</td>\n",
       "      <td>346</td>\n",
       "      <td>1</td>\n",
       "      <td>886397596</td>\n",
       "    </tr>\n",
       "    <tr>\n",
       "      <td>...</td>\n",
       "      <td>...</td>\n",
       "      <td>...</td>\n",
       "      <td>...</td>\n",
       "      <td>...</td>\n",
       "    </tr>\n",
       "    <tr>\n",
       "      <td>99995</td>\n",
       "      <td>880</td>\n",
       "      <td>476</td>\n",
       "      <td>3</td>\n",
       "      <td>880175444</td>\n",
       "    </tr>\n",
       "    <tr>\n",
       "      <td>99996</td>\n",
       "      <td>716</td>\n",
       "      <td>204</td>\n",
       "      <td>5</td>\n",
       "      <td>879795543</td>\n",
       "    </tr>\n",
       "    <tr>\n",
       "      <td>99997</td>\n",
       "      <td>276</td>\n",
       "      <td>1090</td>\n",
       "      <td>1</td>\n",
       "      <td>874795795</td>\n",
       "    </tr>\n",
       "    <tr>\n",
       "      <td>99998</td>\n",
       "      <td>13</td>\n",
       "      <td>225</td>\n",
       "      <td>2</td>\n",
       "      <td>882399156</td>\n",
       "    </tr>\n",
       "    <tr>\n",
       "      <td>99999</td>\n",
       "      <td>12</td>\n",
       "      <td>203</td>\n",
       "      <td>3</td>\n",
       "      <td>879959583</td>\n",
       "    </tr>\n",
       "  </tbody>\n",
       "</table>\n",
       "<p>100000 rows × 4 columns</p>\n",
       "</div>"
      ],
      "text/plain": [
       "       user  item  rating  timestamp\n",
       "0       196   242       3  881250949\n",
       "1       186   302       3  891717742\n",
       "2        22   377       1  878887116\n",
       "3       244    51       2  880606923\n",
       "4       166   346       1  886397596\n",
       "...     ...   ...     ...        ...\n",
       "99995   880   476       3  880175444\n",
       "99996   716   204       5  879795543\n",
       "99997   276  1090       1  874795795\n",
       "99998    13   225       2  882399156\n",
       "99999    12   203       3  879959583\n",
       "\n",
       "[100000 rows x 4 columns]"
      ]
     },
     "execution_count": 3,
     "metadata": {},
     "output_type": "execute_result"
    }
   ],
   "source": [
    "rDataset=pd.read_csv(\"restaurant_ratings.txt\",delimiter=\"\\t\",names=[\"user\",\"item\",\"rating\",\"timestamp\"])\n",
    "rDataset"
   ]
  },
  {
   "cell_type": "code",
   "execution_count": 4,
   "metadata": {},
   "outputs": [],
   "source": [
    "def modelTesting(trainset,testset):\n",
    "#     i=1\n",
    "#     svdRMSE=0\n",
    "#     svdMAE=0pmfRMSE,pmfMAE,nmfRMSE,nmfMAE,userRMSE,useMAE,itemRMSE,itemMAE=0\n",
    "    \n",
    "#     for trainset, testset in kf.split(data):\n",
    "#     print(\"====\"*5+\"Training Set={}\".format(i)+\"====\"*5)\n",
    "    print(\"****\"*20)\n",
    "    algo=SVD()\n",
    "    print(\"Singular Value Decomposition\")\n",
    "    print()\n",
    "    # train and test algorithm.\n",
    "    algo.fit(trainset)\n",
    "    predictions = algo.test(testset)\n",
    "\n",
    "    # Compute and print Root Mean Squared Error and Mean Absolute Error \n",
    "    print(\"====\"*20)\n",
    "    svdRMSE= accuracy.rmse(predictions, verbose=True)\n",
    "    print(\"----\"*20)\n",
    "    svdMAE= accuracy.mae(predictions, verbose=True)\n",
    "    print(\"====\"*20)\n",
    "    print()\n",
    "#     svd=tuple(svdRMSE,svdMAE)\n",
    "\n",
    "\n",
    "    print(\"Probabilistic Matrix Factorization\")\n",
    "    print()\n",
    "    algo=SVD(biased=False)\n",
    "    # train and test algorithm.\n",
    "    algo.fit(trainset)\n",
    "    predictions = algo.test(testset)\n",
    "\n",
    "    # Compute and print Root Mean Squared Error and Mean Absolute Error \n",
    "    print(\"====\"*20)\n",
    "    pmfRMSE= accuracy.rmse(predictions, verbose=True)\n",
    "    print(\"----\"*20)\n",
    "    pmfMAE= accuracy.mae(predictions, verbose=True)\n",
    "    print(\"====\"*20)\n",
    "    print()\n",
    "#     pmf=tuple(pmfRMSE,pmfMAE)\n",
    "\n",
    "\n",
    "    print(\"Non-negative Matrix Factorization\")\n",
    "    print()\n",
    "    algo=NMF()\n",
    "    # train and test algorithm.\n",
    "    algo.fit(trainset)\n",
    "    predictions = algo.test(testset)\n",
    "\n",
    "    # Compute and print Root Mean Squared Error and Mean Absolute Error \n",
    "    print(\"====\"*20)\n",
    "    nmfRMSE= accuracy.rmse(predictions, verbose=True)\n",
    "    print(\"----\"*20)\n",
    "    nmfMAE= accuracy.mae(predictions, verbose=True)\n",
    "    print(\"====\"*20)\n",
    "    print()\n",
    "#     nmf=tuple(nmfRMSE,nmfMAE)\n",
    "\n",
    "    print(\"User based Collaborative Filtering algorithm\")\n",
    "    print()\n",
    "    algo=KNNBasic(sim_options = {'user_based': True })\n",
    "    # train and test algorithm.\n",
    "    algo.fit(trainset)\n",
    "    predictions = algo.test(testset)\n",
    "\n",
    "    # Compute and print Root Mean Squared Error and Mean Absolute Error \n",
    "    print(\"====\"*20)\n",
    "    userRMSE=accuracy.rmse(predictions, verbose=True)\n",
    "    print(\"----\"*20)\n",
    "    userMAE=accuracy.mae(predictions, verbose=True)\n",
    "    print(\"====\"*20)\n",
    "    print()\n",
    "#     user=tuple(userRMSE,userMAE)\n",
    "\n",
    "    print(\"Item based Collaborative Filtering algorithm\")\n",
    "    print()\n",
    "    algo=KNNBasic(sim_options = {'user_based': False })\n",
    "    # train and test algorithm.\n",
    "    algo.fit(trainset)\n",
    "    predictions = algo.test(testset)\n",
    "\n",
    "    # Compute and print Root Mean Squared Error and Mean Absolute Error \n",
    "    print(\"====\"*20)\n",
    "    itemRMSE=accuracy.rmse(predictions, verbose=True)\n",
    "    print(\"----\"*20)\n",
    "    itemMAE=accuracy.mae(predictions, verbose=True)\n",
    "    print(\"====\"*20)\n",
    "    print()\n",
    "#     itemx=tuple(itemRMSE,itemMAE)\n",
    "\n",
    "\n",
    "    print(\"++++\"*20)\n",
    "    print()\n",
    "    print()\n",
    "#     i+=1\n",
    "    return svdRMSE,svdMAE,pmfRMSE,pmfMAE,nmfRMSE,nmfMAE,userRMSE,userMAE,itemRMSE,itemMAE\n",
    "        \n",
    "    "
   ]
  },
  {
   "cell_type": "code",
   "execution_count": 5,
   "metadata": {},
   "outputs": [],
   "source": [
    "def singleModelAvg(mainTrainSet, mainTestSet,algo):\n",
    "    rmseSum=0\n",
    "    maeSum=0\n",
    "    for i in range(len(mainTrainSet)):\n",
    "        algo.fit(mainTrainSet[i])\n",
    "        predictions = algo.test(mainTestSet[i])\n",
    "\n",
    "        # Compute and print Root Mean Squared Error and Mean Absolute Error \n",
    "        print(\"====\"*20)\n",
    "        rmseSum+=accuracy.rmse(predictions, verbose=True)\n",
    "        print(\"----\"*20)\n",
    "        maeSum+=accuracy.mae(predictions, verbose=True)\n",
    "        print(\"====\"*20)\n",
    "        print()\n",
    "    print(\"Avg Mean of RMSE ={}\".format(rmseSum/len(mainTrainSet)))\n",
    "    print(\"Avg Mean of MAE ={}\".format(maeSum/len(mainTrainSet)))\n",
    "    \n",
    "    return rmseSum/len(mainTrainSet),maeSum/len(mainTrainSet)\n",
    "        "
   ]
  },
  {
   "cell_type": "code",
   "execution_count": 17,
   "metadata": {},
   "outputs": [
    {
     "ename": "TypeError",
     "evalue": "object of type 'DatasetAutoFolds' has no len()",
     "output_type": "error",
     "traceback": [
      "\u001b[0;31m---------------------------------------------------------------------------\u001b[0m",
      "\u001b[0;31mTypeError\u001b[0m                                 Traceback (most recent call last)",
      "\u001b[0;32m<ipython-input-17-f1208277f568>\u001b[0m in \u001b[0;36m<module>\u001b[0;34m\u001b[0m\n\u001b[1;32m      2\u001b[0m \u001b[0mreader\u001b[0m \u001b[0;34m=\u001b[0m \u001b[0mReader\u001b[0m\u001b[0;34m(\u001b[0m\u001b[0mline_format\u001b[0m\u001b[0;34m=\u001b[0m\u001b[0;34m'user item rating timestamp'\u001b[0m\u001b[0;34m,\u001b[0m \u001b[0msep\u001b[0m\u001b[0;34m=\u001b[0m\u001b[0;34m'\\t'\u001b[0m\u001b[0;34m)\u001b[0m\u001b[0;34m\u001b[0m\u001b[0;34m\u001b[0m\u001b[0m\n\u001b[1;32m      3\u001b[0m \u001b[0mdata\u001b[0m \u001b[0;34m=\u001b[0m \u001b[0mDataset\u001b[0m\u001b[0;34m.\u001b[0m\u001b[0mload_from_file\u001b[0m\u001b[0;34m(\u001b[0m\u001b[0mfile_path\u001b[0m\u001b[0;34m,\u001b[0m \u001b[0mreader\u001b[0m\u001b[0;34m=\u001b[0m\u001b[0mreader\u001b[0m\u001b[0;34m)\u001b[0m\u001b[0;34m\u001b[0m\u001b[0;34m\u001b[0m\u001b[0m\n\u001b[0;32m----> 4\u001b[0;31m \u001b[0mprint\u001b[0m\u001b[0;34m(\u001b[0m\u001b[0mlen\u001b[0m\u001b[0;34m(\u001b[0m\u001b[0mdata\u001b[0m\u001b[0;34m)\u001b[0m\u001b[0;34m)\u001b[0m\u001b[0;34m\u001b[0m\u001b[0;34m\u001b[0m\u001b[0m\n\u001b[0m\u001b[1;32m      5\u001b[0m \u001b[0mkf\u001b[0m \u001b[0;34m=\u001b[0m \u001b[0mKFold\u001b[0m\u001b[0;34m(\u001b[0m\u001b[0mn_splits\u001b[0m\u001b[0;34m=\u001b[0m\u001b[0;36m2\u001b[0m\u001b[0;34m,\u001b[0m\u001b[0mrandom_state\u001b[0m\u001b[0;34m=\u001b[0m\u001b[0;36m0\u001b[0m\u001b[0;34m,\u001b[0m\u001b[0mshuffle\u001b[0m\u001b[0;34m=\u001b[0m\u001b[0;32mTrue\u001b[0m\u001b[0;34m)\u001b[0m\u001b[0;34m\u001b[0m\u001b[0;34m\u001b[0m\u001b[0m\n\u001b[1;32m      6\u001b[0m \u001b[0;34m\u001b[0m\u001b[0m\n",
      "\u001b[0;31mTypeError\u001b[0m: object of type 'DatasetAutoFolds' has no len()"
     ]
    }
   ],
   "source": [
    "file_path = os.path.expanduser('restaurant_ratings.txt')\n",
    "reader = Reader(line_format='user item rating timestamp', sep='\\t')\n",
    "data = Dataset.load_from_file(file_path, reader=reader)\n",
    "# print(len(data))\n",
    "kf = KFold(n_splits=2,random_state=0,shuffle=True)\n",
    "\n",
    "mainTrainSet=[]\n",
    "mainTestSet=[]"
   ]
  },
  {
   "cell_type": "code",
   "execution_count": 13,
   "metadata": {},
   "outputs": [
    {
     "name": "stdout",
     "output_type": "stream",
     "text": [
      "2\n",
      "2\n"
     ]
    }
   ],
   "source": [
    "for trainset, testset in kf.split(data):\n",
    "    mainTrainSet.append(trainset)\n",
    "    mainTestSet.append(testset)\n",
    "print(len(mainTrainSet))\n",
    "print(len(mainTestSet))"
   ]
  },
  {
   "cell_type": "code",
   "execution_count": 16,
   "metadata": {},
   "outputs": [
    {
     "data": {
      "text/plain": [
       "50000"
      ]
     },
     "execution_count": 16,
     "metadata": {},
     "output_type": "execute_result"
    }
   ],
   "source": [
    "mainTestSet[0]"
   ]
  },
  {
   "cell_type": "markdown",
   "metadata": {},
   "source": [
    "-----------------------------------------------------------------------------------------------------------------"
   ]
  },
  {
   "cell_type": "markdown",
   "metadata": {},
   "source": [
    "Que 10: - Compare the performances of User-based collaborative filtering, item-based collaborative filtering, SVD, PMF, NMFon fold-1with respect to RMSE and MAE. Since data.split(n_folds=3)randomly split the data into 3 folds, please make sure you testthe five algorithms on the same fold-1 so the results are comparable. "
   ]
  },
  {
   "cell_type": "code",
   "execution_count": 8,
   "metadata": {
    "scrolled": false
   },
   "outputs": [
    {
     "name": "stdout",
     "output_type": "stream",
     "text": [
      "********************************************************************************\n",
      "Singular Value Decomposition\n",
      "\n",
      "================================================================================\n",
      "RMSE: 0.9474\n",
      "--------------------------------------------------------------------------------\n",
      "MAE:  0.7480\n",
      "================================================================================\n",
      "\n",
      "Probabilistic Matrix Factorization\n",
      "\n",
      "================================================================================\n",
      "RMSE: 0.9696\n",
      "--------------------------------------------------------------------------------\n",
      "MAE:  0.7631\n",
      "================================================================================\n",
      "\n",
      "Non-negative Matrix Factorization\n",
      "\n",
      "================================================================================\n",
      "RMSE: 0.9836\n",
      "--------------------------------------------------------------------------------\n",
      "MAE:  0.7710\n",
      "================================================================================\n",
      "\n",
      "User based Collaborative Filtering algorithm\n",
      "\n",
      "Computing the msd similarity matrix...\n",
      "Done computing similarity matrix.\n",
      "================================================================================\n",
      "RMSE: 0.9941\n",
      "--------------------------------------------------------------------------------\n",
      "MAE:  0.7841\n",
      "================================================================================\n",
      "\n",
      "Item based Collaborative Filtering algorithm\n",
      "\n",
      "Computing the msd similarity matrix...\n",
      "Done computing similarity matrix.\n",
      "================================================================================\n",
      "RMSE: 0.9872\n",
      "--------------------------------------------------------------------------------\n",
      "MAE:  0.7813\n",
      "================================================================================\n",
      "\n",
      "++++++++++++++++++++++++++++++++++++++++++++++++++++++++++++++++++++++++++++++++\n",
      "\n",
      "\n"
     ]
    },
    {
     "data": {
      "text/plain": [
       "Text(0.5, 1.0, 'Algorith Comparison - Fold 1')"
      ]
     },
     "execution_count": 8,
     "metadata": {},
     "output_type": "execute_result"
    },
    {
     "data": {
      "image/png": "[encoded data removed]",
      "text/plain": [
       "<Figure size 432x288 with 1 Axes>"
      ]
     },
     "metadata": {
      "needs_background": "light"
     },
     "output_type": "display_data"
    }
   ],
   "source": [
    "svdRMSE,svdMAE,pmfRMSE,pmfMAE,nmfRMSE,nmfMAE,userRMSE,userMAE,itemRMSE,itemMAE=modelTesting(mainTrainSet[0],mainTestSet[0])\n",
    "graphModel = {\n",
    "    'Algorithm': ('SVD','SVD','PMF', 'PMF','NMF','NMF','User Based','User Based','Item Based','Item Based'), \n",
    "    'RMSE and MAE': [svdRMSE,svdMAE,pmfRMSE,pmfMAE,nmfRMSE,nmfMAE,userRMSE,userMAE,itemRMSE,itemMAE],\n",
    "    'Metric':['RMSE','MAE','RMSE','MAE','RMSE','MAE','RMSE','MAE','RMSE','MAE']\n",
    "}\n",
    "df = pd.DataFrame(graphModel)\n",
    "x = sns.barplot(x=\"Algorithm\",y=\"RMSE and MAE\",data=df,hue=\"Metric\")\n",
    "x.set_ylim([.5,1.3])\n",
    "x.set_title(\"Algorith Comparison - Fold 1\" ,loc=\"center\")\n"
   ]
  },
  {
   "cell_type": "markdown",
   "metadata": {},
   "source": [
    "<b>Ans: - </b><br>\n",
    "As per the observation <b>Singular Value Decomposition(SVD) has lowest RMSE and MAE.</b>"
   ]
  },
  {
   "cell_type": "markdown",
   "metadata": {},
   "source": [
    "-----------------------------------------------------------------------------------------------------------------"
   ]
  },
  {
   "cell_type": "markdown",
   "metadata": {},
   "source": [
    "Que 11: - Compare the performances of User-based collaborative filtering, item-based collaborative filtering, SVD, PMF, NMF on fold-2 with respect to RMSE and MAE. Please make sure you test the five algorithms on the same fold-2 so the results are comparable."
   ]
  },
  {
   "cell_type": "code",
   "execution_count": 9,
   "metadata": {
    "scrolled": false
   },
   "outputs": [
    {
     "name": "stdout",
     "output_type": "stream",
     "text": [
      "********************************************************************************\n",
      "Singular Value Decomposition\n",
      "\n",
      "================================================================================\n",
      "RMSE: 0.9390\n",
      "--------------------------------------------------------------------------------\n",
      "MAE:  0.7412\n",
      "================================================================================\n",
      "\n",
      "Probabilistic Matrix Factorization\n",
      "\n"
     ]
    },
    {
     "ename": "KeyboardInterrupt",
     "evalue": "",
     "output_type": "error",
     "traceback": [
      "\u001b[0;31m---------------------------------------------------------------------------\u001b[0m",
      "\u001b[0;31mKeyboardInterrupt\u001b[0m                         Traceback (most recent call last)",
      "\u001b[0;32m<ipython-input-9-235de2d9b648>\u001b[0m in \u001b[0;36m<module>\u001b[0;34m\u001b[0m\n\u001b[0;32m----> 1\u001b[0;31m \u001b[0msvdRMSE\u001b[0m\u001b[0;34m,\u001b[0m\u001b[0msvdMAE\u001b[0m\u001b[0;34m,\u001b[0m\u001b[0mpmfRMSE\u001b[0m\u001b[0;34m,\u001b[0m\u001b[0mpmfMAE\u001b[0m\u001b[0;34m,\u001b[0m\u001b[0mnmfRMSE\u001b[0m\u001b[0;34m,\u001b[0m\u001b[0mnmfMAE\u001b[0m\u001b[0;34m,\u001b[0m\u001b[0muserRMSE\u001b[0m\u001b[0;34m,\u001b[0m\u001b[0muserMAE\u001b[0m\u001b[0;34m,\u001b[0m\u001b[0mitemRMSE\u001b[0m\u001b[0;34m,\u001b[0m\u001b[0mitemMAE\u001b[0m\u001b[0;34m=\u001b[0m\u001b[0mmodelTesting\u001b[0m\u001b[0;34m(\u001b[0m\u001b[0mmainTrainSet\u001b[0m\u001b[0;34m[\u001b[0m\u001b[0;36m1\u001b[0m\u001b[0;34m]\u001b[0m\u001b[0;34m,\u001b[0m\u001b[0mmainTestSet\u001b[0m\u001b[0;34m[\u001b[0m\u001b[0;36m1\u001b[0m\u001b[0;34m]\u001b[0m\u001b[0;34m)\u001b[0m\u001b[0;34m\u001b[0m\u001b[0;34m\u001b[0m\u001b[0m\n\u001b[0m\u001b[1;32m      2\u001b[0m graphModel = {\n\u001b[1;32m      3\u001b[0m     \u001b[0;34m'Algorithm'\u001b[0m\u001b[0;34m:\u001b[0m \u001b[0;34m(\u001b[0m\u001b[0;34m'SVD'\u001b[0m\u001b[0;34m,\u001b[0m\u001b[0;34m'SVD'\u001b[0m\u001b[0;34m,\u001b[0m\u001b[0;34m'PMF'\u001b[0m\u001b[0;34m,\u001b[0m \u001b[0;34m'PMF'\u001b[0m\u001b[0;34m,\u001b[0m\u001b[0;34m'NMF'\u001b[0m\u001b[0;34m,\u001b[0m\u001b[0;34m'NMF'\u001b[0m\u001b[0;34m,\u001b[0m\u001b[0;34m'User Based'\u001b[0m\u001b[0;34m,\u001b[0m\u001b[0;34m'User Based'\u001b[0m\u001b[0;34m,\u001b[0m\u001b[0;34m'Item Based'\u001b[0m\u001b[0;34m,\u001b[0m\u001b[0;34m'Item Based'\u001b[0m\u001b[0;34m)\u001b[0m\u001b[0;34m,\u001b[0m\u001b[0;34m\u001b[0m\u001b[0;34m\u001b[0m\u001b[0m\n\u001b[1;32m      4\u001b[0m     \u001b[0;34m'RMSE and MAE'\u001b[0m\u001b[0;34m:\u001b[0m \u001b[0;34m[\u001b[0m\u001b[0msvdRMSE\u001b[0m\u001b[0;34m,\u001b[0m\u001b[0msvdMAE\u001b[0m\u001b[0;34m,\u001b[0m\u001b[0mpmfRMSE\u001b[0m\u001b[0;34m,\u001b[0m\u001b[0mpmfMAE\u001b[0m\u001b[0;34m,\u001b[0m\u001b[0mnmfRMSE\u001b[0m\u001b[0;34m,\u001b[0m\u001b[0mnmfMAE\u001b[0m\u001b[0;34m,\u001b[0m\u001b[0muserRMSE\u001b[0m\u001b[0;34m,\u001b[0m\u001b[0muserMAE\u001b[0m\u001b[0;34m,\u001b[0m\u001b[0mitemRMSE\u001b[0m\u001b[0;34m,\u001b[0m\u001b[0mitemMAE\u001b[0m\u001b[0;34m]\u001b[0m\u001b[0;34m,\u001b[0m\u001b[0;34m\u001b[0m\u001b[0;34m\u001b[0m\u001b[0m\n\u001b[1;32m      5\u001b[0m     \u001b[0;34m'Metric'\u001b[0m\u001b[0;34m:\u001b[0m\u001b[0;34m[\u001b[0m\u001b[0;34m'RMSE'\u001b[0m\u001b[0;34m,\u001b[0m\u001b[0;34m'MAE'\u001b[0m\u001b[0;34m,\u001b[0m\u001b[0;34m'RMSE'\u001b[0m\u001b[0;34m,\u001b[0m\u001b[0;34m'MAE'\u001b[0m\u001b[0;34m,\u001b[0m\u001b[0;34m'RMSE'\u001b[0m\u001b[0;34m,\u001b[0m\u001b[0;34m'MAE'\u001b[0m\u001b[0;34m,\u001b[0m\u001b[0;34m'RMSE'\u001b[0m\u001b[0;34m,\u001b[0m\u001b[0;34m'MAE'\u001b[0m\u001b[0;34m,\u001b[0m\u001b[0;34m'RMSE'\u001b[0m\u001b[0;34m,\u001b[0m\u001b[0;34m'MAE'\u001b[0m\u001b[0;34m]\u001b[0m\u001b[0;34m\u001b[0m\u001b[0;34m\u001b[0m\u001b[0m\n",
      "\u001b[0;32m<ipython-input-4-492cca3d2173>\u001b[0m in \u001b[0;36mmodelTesting\u001b[0;34m(trainset, testset)\u001b[0m\n\u001b[1;32m     28\u001b[0m     \u001b[0malgo\u001b[0m\u001b[0;34m=\u001b[0m\u001b[0mSVD\u001b[0m\u001b[0;34m(\u001b[0m\u001b[0mbiased\u001b[0m\u001b[0;34m=\u001b[0m\u001b[0;32mFalse\u001b[0m\u001b[0;34m)\u001b[0m\u001b[0;34m\u001b[0m\u001b[0;34m\u001b[0m\u001b[0m\n\u001b[1;32m     29\u001b[0m     \u001b[0;31m# train and test algorithm.\u001b[0m\u001b[0;34m\u001b[0m\u001b[0;34m\u001b[0m\u001b[0;34m\u001b[0m\u001b[0m\n\u001b[0;32m---> 30\u001b[0;31m     \u001b[0malgo\u001b[0m\u001b[0;34m.\u001b[0m\u001b[0mfit\u001b[0m\u001b[0;34m(\u001b[0m\u001b[0mtrainset\u001b[0m\u001b[0;34m)\u001b[0m\u001b[0;34m\u001b[0m\u001b[0;34m\u001b[0m\u001b[0m\n\u001b[0m\u001b[1;32m     31\u001b[0m     \u001b[0mpredictions\u001b[0m \u001b[0;34m=\u001b[0m \u001b[0malgo\u001b[0m\u001b[0;34m.\u001b[0m\u001b[0mtest\u001b[0m\u001b[0;34m(\u001b[0m\u001b[0mtestset\u001b[0m\u001b[0;34m)\u001b[0m\u001b[0;34m\u001b[0m\u001b[0;34m\u001b[0m\u001b[0m\n\u001b[1;32m     32\u001b[0m \u001b[0;34m\u001b[0m\u001b[0m\n",
      "\u001b[0;32m~/opt/anaconda3/lib/python3.7/site-packages/surprise/prediction_algorithms/matrix_factorization.pyx\u001b[0m in \u001b[0;36msurprise.prediction_algorithms.matrix_factorization.SVD.fit\u001b[0;34m()\u001b[0m\n",
      "\u001b[0;32m~/opt/anaconda3/lib/python3.7/site-packages/surprise/prediction_algorithms/matrix_factorization.pyx\u001b[0m in \u001b[0;36msurprise.prediction_algorithms.matrix_factorization.SVD.sgd\u001b[0;34m()\u001b[0m\n",
      "\u001b[0;32m~/opt/anaconda3/lib/python3.7/site-packages/surprise/trainset.py\u001b[0m in \u001b[0;36mall_ratings\u001b[0;34m(self)\u001b[0m\n\u001b[1;32m    186\u001b[0m \u001b[0;34m\u001b[0m\u001b[0m\n\u001b[1;32m    187\u001b[0m         \u001b[0;32mfor\u001b[0m \u001b[0mu\u001b[0m\u001b[0;34m,\u001b[0m \u001b[0mu_ratings\u001b[0m \u001b[0;32min\u001b[0m \u001b[0miteritems\u001b[0m\u001b[0;34m(\u001b[0m\u001b[0mself\u001b[0m\u001b[0;34m.\u001b[0m\u001b[0mur\u001b[0m\u001b[0;34m)\u001b[0m\u001b[0;34m:\u001b[0m\u001b[0;34m\u001b[0m\u001b[0;34m\u001b[0m\u001b[0m\n\u001b[0;32m--> 188\u001b[0;31m             \u001b[0;32mfor\u001b[0m \u001b[0mi\u001b[0m\u001b[0;34m,\u001b[0m \u001b[0mr\u001b[0m \u001b[0;32min\u001b[0m \u001b[0mu_ratings\u001b[0m\u001b[0;34m:\u001b[0m\u001b[0;34m\u001b[0m\u001b[0;34m\u001b[0m\u001b[0m\n\u001b[0m\u001b[1;32m    189\u001b[0m                 \u001b[0;32myield\u001b[0m \u001b[0mu\u001b[0m\u001b[0;34m,\u001b[0m \u001b[0mi\u001b[0m\u001b[0;34m,\u001b[0m \u001b[0mr\u001b[0m\u001b[0;34m\u001b[0m\u001b[0;34m\u001b[0m\u001b[0m\n\u001b[1;32m    190\u001b[0m \u001b[0;34m\u001b[0m\u001b[0m\n",
      "\u001b[0;31mKeyboardInterrupt\u001b[0m: "
     ]
    }
   ],
   "source": [
    "svdRMSE,svdMAE,pmfRMSE,pmfMAE,nmfRMSE,nmfMAE,userRMSE,userMAE,itemRMSE,itemMAE=modelTesting(mainTrainSet[1],mainTestSet[1])\n",
    "graphModel = {\n",
    "    'Algorithm': ('SVD','SVD','PMF', 'PMF','NMF','NMF','User Based','User Based','Item Based','Item Based'), \n",
    "    'RMSE and MAE': [svdRMSE,svdMAE,pmfRMSE,pmfMAE,nmfRMSE,nmfMAE,userRMSE,userMAE,itemRMSE,itemMAE],\n",
    "    'Metric':['RMSE','MAE','RMSE','MAE','RMSE','MAE','RMSE','MAE','RMSE','MAE']\n",
    "}\n",
    "df = pd.DataFrame(graphModel)\n",
    "x = sns.barplot(x=\"Algorithm\",y=\"RMSE and MAE\",data=df,hue=\"Metric\")\n",
    "x.set_ylim([.5,1.3])\n",
    "x.set_title(\"Algorith Comparison - Fold 2\" ,loc=\"center\")"
   ]
  },
  {
   "cell_type": "markdown",
   "metadata": {},
   "source": [
    "<b>Ans: - </b><br>\n",
    "As per the observation <b>Singular Value Decomposition(SVD) has lowest RMSE and MAE.</b>"
   ]
  },
  {
   "cell_type": "markdown",
   "metadata": {},
   "source": [
    "-----------------------------------------------------------------------------------------------------------------"
   ]
  },
  {
   "cell_type": "markdown",
   "metadata": {},
   "source": [
    "Que 12: - Compare the performances of User-based collaborative filtering, item-based collaborative filtering, SVD, PMF, NMF on fold-3 with respect to RMSE and MAE. Please make sure you test the five algorithms on the same fold-3 so the results are comparable. "
   ]
  },
  {
   "cell_type": "code",
   "execution_count": null,
   "metadata": {
    "scrolled": true
   },
   "outputs": [],
   "source": [
    "svdRMSE,svdMAE,pmfRMSE,pmfMAE,nmfRMSE,nmfMAE,userRMSE,userMAE,itemRMSE,itemMAE=modelTesting(mainTrainSet[2],mainTestSet[2])\n",
    "graphModel = {\n",
    "    'Algorithm': ('SVD','SVD','PMF', 'PMF','NMF','NMF','User Based','User Based','Item Based','Item Based'), \n",
    "    'RMSE and MAE': [svdRMSE,svdMAE,pmfRMSE,pmfMAE,nmfRMSE,nmfMAE,userRMSE,userMAE,itemRMSE,itemMAE],\n",
    "    'Metric':['RMSE','MAE','RMSE','MAE','RMSE','MAE','RMSE','MAE','RMSE','MAE']\n",
    "}\n",
    "df = pd.DataFrame(graphModel)\n",
    "x = sns.barplot(x=\"Algorithm\",y=\"RMSE and MAE\",data=df,hue=\"Metric\")\n",
    "x.set_ylim([.5,1.3])\n",
    "x.set_title(\"Algorith Comparison - Fold 3\" ,loc=\"center\")"
   ]
  },
  {
   "cell_type": "markdown",
   "metadata": {},
   "source": [
    "<b>Ans: - </b><br>\n",
    "As per the observation <b>Singular Value Decomposition(SVD) has lowest RMSE and MAE.</b>"
   ]
  },
  {
   "cell_type": "markdown",
   "metadata": {},
   "source": [
    "-----------------------------------------------------------------------------------------------------------------"
   ]
  },
  {
   "cell_type": "markdown",
   "metadata": {},
   "source": [
    "Que 13: - Compare the average(mean)performances of User-based collaborative filtering, item-based collaborative filtering, SVD, PMF, NMF with respect to RMSE and MAE.  Please make sure you test the five algorithms on the same3-folddata split plan so the results are comparable. "
   ]
  },
  {
   "cell_type": "markdown",
   "metadata": {},
   "source": [
    "<b>SVD</b>"
   ]
  },
  {
   "cell_type": "code",
   "execution_count": null,
   "metadata": {},
   "outputs": [],
   "source": [
    "svdAvgRMSE,svdAvgMAE=singleModelAvg(mainTrainSet,mainTestSet,SVD())"
   ]
  },
  {
   "cell_type": "markdown",
   "metadata": {},
   "source": [
    "<b>PMF</b>"
   ]
  },
  {
   "cell_type": "code",
   "execution_count": null,
   "metadata": {},
   "outputs": [],
   "source": [
    "pmfAvgRMSE,pmfAvgMAE=singleModelAvg(mainTrainSet,mainTestSet,SVD(biased=False))"
   ]
  },
  {
   "cell_type": "markdown",
   "metadata": {},
   "source": [
    "<b>NMF</b>"
   ]
  },
  {
   "cell_type": "code",
   "execution_count": null,
   "metadata": {},
   "outputs": [],
   "source": [
    "nmfAvgRMSE,nmfAvgMAE=singleModelAvg(mainTrainSet,mainTestSet,NMF())"
   ]
  },
  {
   "cell_type": "markdown",
   "metadata": {},
   "source": [
    "<b>User based Collaborative Filtering algorithm</b>"
   ]
  },
  {
   "cell_type": "code",
   "execution_count": null,
   "metadata": {},
   "outputs": [],
   "source": [
    "userAvgRMSE,userAvgMAE=singleModelAvg(mainTrainSet,mainTestSet,KNNBasic(sim_options = {'user_based': True }))"
   ]
  },
  {
   "cell_type": "markdown",
   "metadata": {},
   "source": [
    "<b>Item based Collaborative Filtering algorithm</b>"
   ]
  },
  {
   "cell_type": "code",
   "execution_count": null,
   "metadata": {},
   "outputs": [],
   "source": [
    "itemAvgRMSE,itemAvgMAE=singleModelAvg(mainTrainSet,mainTestSet,KNNBasic(sim_options = {'user_based': False }))"
   ]
  },
  {
   "cell_type": "code",
   "execution_count": null,
   "metadata": {},
   "outputs": [],
   "source": [
    "graphModel = {\n",
    "    'Algorithm': ('SVD','SVD','PMF', 'PMF','NMF','NMF','User Based','User Based','Item Based','Item Based'), \n",
    "    'RMSE and MAE': [svdAvgRMSE,svdAvgMAE,pmfAvgRMSE,pmfAvgMAE,nmfAvgRMSE,nmfAvgMAE,userAvgRMSE,userAvgMAE,itemAvgRMSE,itemAvgMAE],\n",
    "    'Metric':['RMSE','MAE','RMSE','MAE','RMSE','MAE','RMSE','MAE','RMSE','MAE']\n",
    "}\n",
    "df = pd.DataFrame(graphModel)\n",
    "x = sns.barplot(x=\"Algorithm\",y=\"RMSE and MAE\",data=df,hue=\"Metric\")\n",
    "x.set_ylim([.5,1.1])\n",
    "x.set_title(\"Algorith Comparison - Mean\" ,loc=\"center\")"
   ]
  },
  {
   "cell_type": "markdown",
   "metadata": {},
   "source": [
    "<b>Ans: - </b><br>\n",
    "As per the observation <b>Singular Value Decomposition(SVD) has lowest RMSE and MAE.<b>"
   ]
  },
  {
   "cell_type": "markdown",
   "metadata": {},
   "source": [
    "-----------------------------------------------------------------------------------------------------------------"
   ]
  },
  {
   "cell_type": "markdown",
   "metadata": {},
   "source": [
    "Que 14: - Examine how the cosine, MSD(Mean Squared Difference), and Pearson similarities impact the performances of User based Collaborative Filtering and Item based Collaborative Filtering.\n",
    "1. MSD Similarity\n",
    "2. Cosine Similarity\n",
    "3. Pearson Similarity"
   ]
  },
  {
   "cell_type": "markdown",
   "metadata": {},
   "source": [
    "<b>User based Collaborative Filtering => MSD Similarity</b>"
   ]
  },
  {
   "cell_type": "code",
   "execution_count": null,
   "metadata": {},
   "outputs": [],
   "source": [
    "userMSDRMSE,userMSDMAE=singleModelAvg(mainTrainSet,mainTestSet,KNNBasic(sim_options = {'user_based': True }))"
   ]
  },
  {
   "cell_type": "markdown",
   "metadata": {},
   "source": [
    "<b>User based Collaborative Filtering => Cosine Similarity</b>"
   ]
  },
  {
   "cell_type": "code",
   "execution_count": null,
   "metadata": {},
   "outputs": [],
   "source": [
    "userCosineRMSE,userCosineMAE=singleModelAvg(mainTrainSet,mainTestSet,KNNBasic(sim_options = {'name':'cosine','user_based': True }))"
   ]
  },
  {
   "cell_type": "markdown",
   "metadata": {},
   "source": [
    "<b>User based Collaborative Filtering => Pearson Similarity</b>"
   ]
  },
  {
   "cell_type": "code",
   "execution_count": null,
   "metadata": {},
   "outputs": [],
   "source": [
    "userPearsonRMSE,userPearsonMAE=singleModelAvg(mainTrainSet,mainTestSet,KNNBasic(sim_options = {'name':'pearson','user_based': True }))"
   ]
  },
  {
   "cell_type": "markdown",
   "metadata": {},
   "source": [
    "-----------------------------------------------------------------------------------------------------------------"
   ]
  },
  {
   "cell_type": "markdown",
   "metadata": {},
   "source": [
    "<b>Item based Collaborative Filtering => MSD Similarity</b>"
   ]
  },
  {
   "cell_type": "code",
   "execution_count": null,
   "metadata": {},
   "outputs": [],
   "source": [
    "itemMSDRMSE,itemMSDMAE=singleModelAvg(mainTrainSet,mainTestSet,KNNBasic(sim_options = {'user_based': False }))"
   ]
  },
  {
   "cell_type": "markdown",
   "metadata": {},
   "source": [
    "<b>Item based Collaborative Filtering => Cosine Similarity</b>"
   ]
  },
  {
   "cell_type": "code",
   "execution_count": null,
   "metadata": {},
   "outputs": [],
   "source": [
    "itemCosineRMSE,itemCosineMAE=singleModelAvg(mainTrainSet,mainTestSet,KNNBasic(sim_options = {'name':'cosine','user_based': False }))"
   ]
  },
  {
   "cell_type": "markdown",
   "metadata": {},
   "source": [
    "<b>Item based Collaborative Filtering => Pearson Similarity</b>"
   ]
  },
  {
   "cell_type": "code",
   "execution_count": null,
   "metadata": {
    "scrolled": true
   },
   "outputs": [],
   "source": [
    "itemPearsonRMSE,itemPearsonMAE=singleModelAvg(mainTrainSet,mainTestSet,KNNBasic(sim_options = {'name':'pearson','user_based': False }))"
   ]
  },
  {
   "cell_type": "code",
   "execution_count": null,
   "metadata": {},
   "outputs": [],
   "source": [
    "graphModel = {\n",
    "    'Algorithm': ('User MSD','User MSD','User Cosine', 'User Cosine','User Pearson','User Pearson'), \n",
    "    'RMSE and MAE': [userMSDRMSE,userMSDMAE,userCosineRMSE,userCosineMAE,userPearsonRMSE,userPearsonMAE],\n",
    "    'Metric':['RMSE','MAE','RMSE','MAE','RMSE','MAE']\n",
    "}\n",
    "df = pd.DataFrame(graphModel)\n",
    "x = sns.barplot(x=\"Algorithm\",y=\"RMSE and MAE\",data=df,hue=\"Metric\",)\n",
    "x.set_ylim([.5,1.1])\n",
    "x.set_title(\"User Based Collaborative Filtering - Similarity Metrics\" ,loc=\"center\")"
   ]
  },
  {
   "cell_type": "code",
   "execution_count": null,
   "metadata": {},
   "outputs": [],
   "source": [
    "graphModel = {\n",
    "    'Algorithm': ('Item MSD','Item MSD','Item Cosine', 'Item Cosine','Item Pearson','Item Pearson'), \n",
    "    'RMSE and MAE': [itemMSDRMSE,itemMSDMAE,itemCosineRMSE,itemCosineMAE,itemPearsonRMSE,itemPearsonMAE],\n",
    "    'Metric':['RMSE','MAE','RMSE','MAE','RMSE','MAE']\n",
    "}\n",
    "df = pd.DataFrame(graphModel)\n",
    "x = sns.barplot(x=\"Algorithm\",y=\"RMSE and MAE\",data=df,hue=\"Metric\",)\n",
    "x.set_ylim([.5,1.1])\n",
    "x.set_title(\"Item Based Collaborative Filtering - Similarity Metrics\" ,loc=\"center\")"
   ]
  },
  {
   "cell_type": "markdown",
   "metadata": {},
   "source": [
    "<b>Ans: - </b><br>\n",
    "As per the observation, <b>MSD similarity gives the lowest RMSE and MAE </b>for the User-Based Collaborative Filtering and Item Based Collaborative Filtering."
   ]
  },
  {
   "cell_type": "markdown",
   "metadata": {},
   "source": [
    "-----------------------------------------------------------------------------------------------------------------"
   ]
  },
  {
   "cell_type": "markdown",
   "metadata": {},
   "source": [
    "Que 15: - Examine how the number of neighbors impacts the performances of User based Collaborative Filteringor Item based Collaborative Filtering?Plot your results. "
   ]
  },
  {
   "cell_type": "code",
   "execution_count": null,
   "metadata": {
    "scrolled": true
   },
   "outputs": [],
   "source": [
    "KRMSE=[]\n",
    "KMAE=[]\n",
    "maxValue=30\n",
    "for i in range(1,maxValue):\n",
    "    rmse,mae=singleModelAvg(mainTrainSet,mainTestSet,KNNBasic(k=i, sim_options = {'user_based': True }))\n",
    "    KRMSE.append(rmse)\n",
    "    KMAE.append(mae)"
   ]
  },
  {
   "cell_type": "code",
   "execution_count": null,
   "metadata": {},
   "outputs": [],
   "source": [
    "\n",
    "knnRMSE = {\n",
    "    'KNN K Value': [y for y in range(1,maxValue)], \n",
    "    'RMSE': KRMSE\n",
    "}\n",
    "df=pd.DataFrame(knnRMSE)\n",
    "graph = sns.barplot(x=\"KNN K Value\",y=\"RMSE\",data=df,color=\"Blue\")\n",
    "graph.set_ylim([.9,1.35])\n",
    "graph.set_title(\"RMSE Values\")"
   ]
  },
  {
   "cell_type": "code",
   "execution_count": null,
   "metadata": {},
   "outputs": [],
   "source": [
    "knnMAE = {\n",
    "    'KNN K Value': [y for y in range(1,maxValue)], \n",
    "    'MAE': KMAE\n",
    "}\n",
    "df=pd.DataFrame(knnMAE)\n",
    "graph = sns.barplot(x=\"KNN K Value\",y=\"MAE\",data=df,color=\"Red\")\n",
    "graph.set_ylim([.75,1.0])\n",
    "graph.set_title(\"MAE Values\")"
   ]
  },
  {
   "cell_type": "code",
   "execution_count": null,
   "metadata": {},
   "outputs": [],
   "source": [
    "bestKvalue=KRMSE.index(min(KRMSE))+1\n",
    "print(\"Best Value for K = {}\".format(bestKvalue))\n",
    "print(\"RMSE = {}\".format(min(KRMSE)))"
   ]
  },
  {
   "cell_type": "markdown",
   "metadata": {},
   "source": [
    "<b>Ans: - </b><br>\n",
    "Best value of k for User based Collaborative Filtering is <b>25</b>."
   ]
  },
  {
   "cell_type": "markdown",
   "metadata": {},
   "source": [
    "-----------------------------------------------------------------------------------------------------------------"
   ]
  },
  {
   "cell_type": "code",
   "execution_count": null,
   "metadata": {
    "scrolled": true
   },
   "outputs": [],
   "source": [
    "iKRMSE=[]\n",
    "iKMAE=[]\n",
    "maxValue=30\n",
    "for i in range(1,maxValue):\n",
    "    rmse,mae=singleModelAvg(mainTrainSet,mainTestSet,KNNBasic(k=i, sim_options = {'user_based': False }))\n",
    "    iKRMSE.append(rmse)\n",
    "    iKMAE.append(mae)"
   ]
  },
  {
   "cell_type": "code",
   "execution_count": null,
   "metadata": {},
   "outputs": [],
   "source": [
    "knnRMSE = {\n",
    "    'KNN K Value': [y for y in range(1,maxValue)], \n",
    "    'RMSE': iKRMSE\n",
    "}\n",
    "df=pd.DataFrame(knnRMSE)\n",
    "graph = sns.barplot(x=\"KNN K Value\",y=\"RMSE\",data=df,color=\"Blue\")\n",
    "graph.set_ylim([.9,1.5])\n",
    "graph.set_title(\"RMSE Values\")"
   ]
  },
  {
   "cell_type": "code",
   "execution_count": null,
   "metadata": {},
   "outputs": [],
   "source": [
    "knnMAE = {\n",
    "    'KNN K Value': [y for y in range(1,maxValue)], \n",
    "    'MAE': iKMAE\n",
    "}\n",
    "df=pd.DataFrame(knnMAE)\n",
    "graph = sns.barplot(x=\"KNN K Value\",y=\"MAE\",data=df,color=\"Red\")\n",
    "graph.set_ylim([.75,1.1])\n",
    "graph.set_title(\"MAE Values\")"
   ]
  },
  {
   "cell_type": "code",
   "execution_count": null,
   "metadata": {},
   "outputs": [],
   "source": [
    "bestKvalue=iKRMSE.index(min(iKRMSE))\n",
    "print(\"Best Value for K = {}\".format(bestKvalue))\n",
    "print(\"RMSE = {}\".format(min(iKRMSE)))"
   ]
  },
  {
   "cell_type": "markdown",
   "metadata": {},
   "source": [
    "<b>Ans: - </b><br>\n",
    "Best value of k for Item based Collaborative Filtering is <b>29</b>."
   ]
  },
  {
   "cell_type": "markdown",
   "metadata": {},
   "source": [
    "-----------------------------------------------------------------------------------------------------------------"
   ]
  },
  {
   "cell_type": "markdown",
   "metadata": {},
   "source": [
    "colab code link - https://colab.research.google.com/drive/1oHuAR-iOHpCxuwGGM4gRsOJZseTYa_JK"
   ]
  },
  {
   "cell_type": "code",
   "execution_count": null,
   "metadata": {},
   "outputs": [],
   "source": [
    "print(KRMSE[24])"
   ]
  },
  {
   "cell_type": "code",
   "execution_count": null,
   "metadata": {},
   "outputs": [],
   "source": [
    "print(KRMSE[25])"
   ]
  }
 ],
 "metadata": {
  "kernelspec": {
   "display_name": "Python 3",
   "language": "python",
   "name": "python3"
  },
  "language_info": {
   "codemirror_mode": {
    "name": "ipython",
    "version": 3
   },
   "file_extension": ".py",
   "mimetype": "text/x-python",
   "name": "python",
   "nbconvert_exporter": "python",
   "pygments_lexer": "ipython3",
   "version": "3.7.4"
  }
 },
 "nbformat": 4,
 "nbformat_minor": 2
}
