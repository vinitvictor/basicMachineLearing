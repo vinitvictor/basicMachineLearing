{
 "cells": [
  {
   "cell_type": "code",
   "execution_count": 625,
   "metadata": {},
   "outputs": [],
   "source": [
    "import numpy as np\n",
    "import pandas as pd\n",
    "import seaborn as sns\n",
    "import math\n",
    "from sklearn.preprocessing import normalize\n",
    "from sklearn.metrics import accuracy_score\n",
    "from sklearn.preprocessing import LabelEncoder\n",
    "from scipy import stats"
   ]
  },
  {
   "cell_type": "code",
   "execution_count": 626,
   "metadata": {},
   "outputs": [
    {
     "data": {
      "text/html": [
       "<div>\n",
       "<style scoped>\n",
       "    .dataframe tbody tr th:only-of-type {\n",
       "        vertical-align: middle;\n",
       "    }\n",
       "\n",
       "    .dataframe tbody tr th {\n",
       "        vertical-align: top;\n",
       "    }\n",
       "\n",
       "    .dataframe thead th {\n",
       "        text-align: right;\n",
       "    }\n",
       "</style>\n",
       "<table border=\"1\" class=\"dataframe\">\n",
       "  <thead>\n",
       "    <tr style=\"text-align: right;\">\n",
       "      <th></th>\n",
       "      <th>Team</th>\n",
       "      <th>Season2016Wins</th>\n",
       "      <th>Season2017Wins</th>\n",
       "    </tr>\n",
       "  </thead>\n",
       "  <tbody>\n",
       "    <tr>\n",
       "      <td>0</td>\n",
       "      <td>X1</td>\n",
       "      <td>3</td>\n",
       "      <td>5</td>\n",
       "    </tr>\n",
       "    <tr>\n",
       "      <td>1</td>\n",
       "      <td>X2</td>\n",
       "      <td>3</td>\n",
       "      <td>4</td>\n",
       "    </tr>\n",
       "    <tr>\n",
       "      <td>2</td>\n",
       "      <td>X3</td>\n",
       "      <td>2</td>\n",
       "      <td>8</td>\n",
       "    </tr>\n",
       "    <tr>\n",
       "      <td>3</td>\n",
       "      <td>X4</td>\n",
       "      <td>2</td>\n",
       "      <td>3</td>\n",
       "    </tr>\n",
       "    <tr>\n",
       "      <td>4</td>\n",
       "      <td>X5</td>\n",
       "      <td>6</td>\n",
       "      <td>2</td>\n",
       "    </tr>\n",
       "    <tr>\n",
       "      <td>5</td>\n",
       "      <td>X6</td>\n",
       "      <td>6</td>\n",
       "      <td>4</td>\n",
       "    </tr>\n",
       "    <tr>\n",
       "      <td>6</td>\n",
       "      <td>X7</td>\n",
       "      <td>7</td>\n",
       "      <td>3</td>\n",
       "    </tr>\n",
       "    <tr>\n",
       "      <td>7</td>\n",
       "      <td>X8</td>\n",
       "      <td>7</td>\n",
       "      <td>4</td>\n",
       "    </tr>\n",
       "    <tr>\n",
       "      <td>8</td>\n",
       "      <td>X9</td>\n",
       "      <td>8</td>\n",
       "      <td>5</td>\n",
       "    </tr>\n",
       "    <tr>\n",
       "      <td>9</td>\n",
       "      <td>X10</td>\n",
       "      <td>7</td>\n",
       "      <td>6</td>\n",
       "    </tr>\n",
       "  </tbody>\n",
       "</table>\n",
       "</div>"
      ],
      "text/plain": [
       "  Team  Season2016Wins  Season2017Wins\n",
       "0   X1               3               5\n",
       "1   X2               3               4\n",
       "2   X3               2               8\n",
       "3   X4               2               3\n",
       "4   X5               6               2\n",
       "5   X6               6               4\n",
       "6   X7               7               3\n",
       "7   X8               7               4\n",
       "8   X9               8               5\n",
       "9  X10               7               6"
      ]
     },
     "execution_count": 626,
     "metadata": {},
     "output_type": "execute_result"
    }
   ],
   "source": [
    "football_df = pd.read_csv('football.csv')\n",
    "football_df"
   ]
  },
  {
   "cell_type": "code",
   "execution_count": 627,
   "metadata": {
    "scrolled": true
   },
   "outputs": [
    {
     "data": {
      "image/png": "[encoded data removed]",
      "text/plain": [
       "<Figure size 432x288 with 1 Axes>"
      ]
     },
     "metadata": {
      "needs_background": "light"
     },
     "output_type": "display_data"
    }
   ],
   "source": [
    "ax = sns.scatterplot(x='Season2016Wins', y=\"Season2017Wins\", data=football_df,hue=\"Team\")"
   ]
  },
  {
   "cell_type": "code",
   "execution_count": 628,
   "metadata": {},
   "outputs": [],
   "source": [
    "def manhattanDistance(X, p):\n",
    "    return np.sum(np.abs(X-p), axis=1).reshape(-1, 1)\n",
    "\n",
    "def euclideanDistance(X, p):\n",
    "    return np.sum((X-p)**2, axis=1).reshape(-1, 1)\n",
    "\n",
    "def cosineSimilarity(X, p):\n",
    "    return 1-normalize(X.reshape(-1, X.shape[1]), axis=1).dot(normalize(p.reshape(-1, 1), axis=0))\n",
    "\n",
    "def jaccardSimilarity(X, p):\n",
    "    return (1-np.sum(np.minimum(X,p),axis=1)/np.sum(np.maximum(X,p),axis=1)).reshape(-1,1)\n",
    "\n",
    "def SSEValue(X, clusters, centroids):\n",
    "    result = 0\n",
    "    for i, centroid in enumerate(centroids):\n",
    "        result += np.sum(euclideanDistance(X[np.where(clusters==i)], centroid))\n",
    "    return result"
   ]
  },
  {
   "cell_type": "code",
   "execution_count": 629,
   "metadata": {},
   "outputs": [],
   "source": [
    "def kmeans(X, centroids, k=3, metric=0, maxIter=100):\n",
    "    np.random.seed(42)\n",
    "    i = 0\n",
    "    previousSSEValue = None\n",
    "    currentSSEValue = None\n",
    "    previousClusters = None\n",
    "    \n",
    "#   calculating Centroids\n",
    "    if centroids is None:\n",
    "        centroids = X[np.random.choice(len(X), size=k, replace=False)]\n",
    "        \n",
    "    \n",
    "    centroids = np.asarray(centroids)                       \n",
    "    \n",
    "    \n",
    "    while i < maxIter:\n",
    "#         distance calculation\n",
    "        pointToCentroidDistances = []\n",
    "        for centroid in centroids:\n",
    "            if(metric==0):\n",
    "                pointToCentroidDistances.append(manhattanDistance(X, centroid))\n",
    "            if(metric==1):\n",
    "                pointToCentroidDistances.append(euclideanDistance(X, centroid))\n",
    "            if(metric==2):\n",
    "                pointToCentroidDistances.append(cosineSimilarity(X, centroid))\n",
    "            if(metric==3):\n",
    "                pointToCentroidDistances.append(jaccardSimilarity(X, centroid))\n",
    "\n",
    "        distance = np.concatenate(pointToCentroidDistances, axis=1)\n",
    "        \n",
    "        clusters = np.argmin(distance, axis=1)\n",
    "        \n",
    "#         sum of square error calculation\n",
    "        currentSSEValue = SSEValue(X, clusters, centroids)\n",
    "    \n",
    "#         new centroid calculation\n",
    "        newCentroidPoints=[]\n",
    "        for j in range(len(centroids)):\n",
    "            if(metric!=0):\n",
    "                newCentroidPoints.append(np.mean(X[np.where(clusters==j)],axis=0))\n",
    "            else:\n",
    "                newCentroidPoints.append(np.median(X[np.where(clusters==j)],axis=0))\n",
    "        \n",
    "#         new point to centroid distance calculation\n",
    "        newPointToCentroidDistances = 0\n",
    "        for x, y in zip(centroids, newCentroidPoints):\n",
    "            if(metric==0):\n",
    "                newPointToCentroidDistances += manhattanDistance(np.array([list(x)]), np.array(list(y)))\n",
    "            if(metric==1):\n",
    "                newPointToCentroidDistances += euclideanDistance(np.array([list(x)]), np.array(list(y)))\n",
    "            if(metric==2):\n",
    "                newPointToCentroidDistances += cosineSimilarity(np.array([list(x)]), np.array(list(y)))\n",
    "            if(metric==3):\n",
    "                newPointToCentroidDistances += jaccardSimilarity(np.array([list(x)]), np.array(list(y)))\n",
    "\n",
    "        \n",
    "        print(\"Iteration {}\".format(i))\n",
    "        print(\"Current Cluster SSE= {}\".format(currentSSEValue))\n",
    "        print(\"Previous Cluster SSE= {}\".format(previousSSEValue))\n",
    "        print(\"----\"*20)\n",
    "        i+=1\n",
    "        \n",
    "        if math.isclose(newPointToCentroidDistances, 0, abs_tol=1e-9) or (previousSSEValue is not None and previousSSEValue < currentSSEValue):\n",
    "            if (previousSSEValue is not None and previousSSEValue < currentSSEValue):\n",
    "                clusters = previousClusters\n",
    "            print(\"-+-\"*20)\n",
    "            print('Number of Iterations= {}'.format(i))\n",
    "            print('Final Sum of Square Error= {}'.format(previousSSEValue if previousSSEValue < currentSSEValue else currentSSEValue))\n",
    "            print(\"-+-\"*20)\n",
    "            return clusters\n",
    "        \n",
    "        previousSSEValue = currentSSEValue\n",
    "        previousClusters = clusters\n",
    "        centroids = newCentroidPoints\n",
    "\n"
   ]
  },
  {
   "cell_type": "code",
   "execution_count": 630,
   "metadata": {},
   "outputs": [],
   "source": [
    "def kmeansWithMultipleMetrics(df, X, centroids, metric=0):\n",
    "    clusters = kmeans(X, centroids, metric=metric)\n",
    "    df['clusters'] = clusters\n",
    "    ax = sns.scatterplot(x='Season2016Wins', y=\"Season2017Wins\", hue='clusters', data=df)"
   ]
  },
  {
   "cell_type": "code",
   "execution_count": 631,
   "metadata": {},
   "outputs": [],
   "source": [
    "def predictClass(clusters, y, k=3):\n",
    "    index = []\n",
    "    for i in range(k):\n",
    "        index.append(np.where(clusters == i))\n",
    "    for cluster in index:\n",
    "        mode = int(stats.mode(y[cluster])[0])\n",
    "        clusters[cluster] = mode\n",
    "    return clusters\n"
   ]
  },
  {
   "cell_type": "markdown",
   "metadata": {},
   "source": [
    "-----------------------------------------------------------------------------------------------------------------"
   ]
  },
  {
   "cell_type": "markdown",
   "metadata": {},
   "source": [
    "Que : - Initialize with two centroids, (4, 6) and (5, 4). Use Manhattan distance as the distance metric. Please use K-Means to find two clusters."
   ]
  },
  {
   "cell_type": "code",
   "execution_count": 632,
   "metadata": {},
   "outputs": [
    {
     "name": "stdout",
     "output_type": "stream",
     "text": [
      "Iteration 0\n",
      "Current Cluster SSE= 58\n",
      "Previous Cluster SSE= None\n",
      "--------------------------------------------------------------------------------\n",
      "Iteration 1\n",
      "Current Cluster SSE= 37.0\n",
      "Previous Cluster SSE= 58\n",
      "--------------------------------------------------------------------------------\n",
      "Iteration 2\n",
      "Current Cluster SSE= 29.0\n",
      "Previous Cluster SSE= 37.0\n",
      "--------------------------------------------------------------------------------\n",
      "-+--+--+--+--+--+--+--+--+--+--+--+--+--+--+--+--+--+--+--+-\n",
      "Number of Iterations= 3\n",
      "Final Sum of Square Error= 29.0\n",
      "-+--+--+--+--+--+--+--+--+--+--+--+--+--+--+--+--+--+--+--+-\n"
     ]
    },
    {
     "data": {
      "image/png": "[encoded data removed]",
      "text/plain": [
       "<Figure size 432x288 with 1 Axes>"
      ]
     },
     "metadata": {
      "needs_background": "light"
     },
     "output_type": "display_data"
    }
   ],
   "source": [
    "X = football_df.values[:, 1:]\n",
    "kmeansWithMultipleMetrics(football_df, X, [[4,6], [5,4]],metric=0)"
   ]
  },
  {
   "cell_type": "markdown",
   "metadata": {},
   "source": [
    "-----------------------------------------------------------------------------------------------------------------"
   ]
  },
  {
   "cell_type": "markdown",
   "metadata": {},
   "source": [
    "Que: - Initialize with two centroids, (4, 6) and (5, 4). Use Euclidean distance as the distance metric. Please use K-Means to find two clusters."
   ]
  },
  {
   "cell_type": "code",
   "execution_count": 633,
   "metadata": {},
   "outputs": [
    {
     "name": "stdout",
     "output_type": "stream",
     "text": [
      "Iteration 0\n",
      "Current Cluster SSE= 57\n",
      "Previous Cluster SSE= None\n",
      "--------------------------------------------------------------------------------\n",
      "Iteration 1\n",
      "Current Cluster SSE= 43.96875\n",
      "Previous Cluster SSE= 57\n",
      "--------------------------------------------------------------------------------\n",
      "Iteration 2\n",
      "Current Cluster SSE= 27.833333333333332\n",
      "Previous Cluster SSE= 43.96875\n",
      "--------------------------------------------------------------------------------\n",
      "-+--+--+--+--+--+--+--+--+--+--+--+--+--+--+--+--+--+--+--+-\n",
      "Number of Iterations= 3\n",
      "Final Sum of Square Error= 27.833333333333332\n",
      "-+--+--+--+--+--+--+--+--+--+--+--+--+--+--+--+--+--+--+--+-\n"
     ]
    },
    {
     "data": {
      "image/png": "[encoded data removed]",
      "text/plain": [
       "<Figure size 432x288 with 1 Axes>"
      ]
     },
     "metadata": {
      "needs_background": "light"
     },
     "output_type": "display_data"
    }
   ],
   "source": [
    "kmeansWithMultipleMetrics(football_df, X, [[4,6], [5,4]], metric=1)"
   ]
  },
  {
   "cell_type": "markdown",
   "metadata": {},
   "source": [
    "-----------------------------------------------------------------------------------------------------------------"
   ]
  },
  {
   "cell_type": "markdown",
   "metadata": {},
   "source": [
    "Que: - Initialize with two centroids, (3, 3) and (8, 3). Use Manhattan distance as the distance metric. Please use K-Means to find two clusters."
   ]
  },
  {
   "cell_type": "code",
   "execution_count": 634,
   "metadata": {},
   "outputs": [
    {
     "name": "stdout",
     "output_type": "stream",
     "text": [
      "Iteration 0\n",
      "Current Cluster SSE= 59\n",
      "Previous Cluster SSE= None\n",
      "--------------------------------------------------------------------------------\n",
      "Iteration 1\n",
      "Current Cluster SSE= 29.0\n",
      "Previous Cluster SSE= 59\n",
      "--------------------------------------------------------------------------------\n",
      "-+--+--+--+--+--+--+--+--+--+--+--+--+--+--+--+--+--+--+--+-\n",
      "Number of Iterations= 2\n",
      "Final Sum of Square Error= 29.0\n",
      "-+--+--+--+--+--+--+--+--+--+--+--+--+--+--+--+--+--+--+--+-\n"
     ]
    },
    {
     "data": {
      "image/png": "[encoded data removed]",
      "text/plain": [
       "<Figure size 432x288 with 1 Axes>"
      ]
     },
     "metadata": {
      "needs_background": "light"
     },
     "output_type": "display_data"
    }
   ],
   "source": [
    "kmeansWithMultipleMetrics(football_df, X, [[3,3], [8,3]],metric=0)"
   ]
  },
  {
   "cell_type": "markdown",
   "metadata": {},
   "source": [
    "-----------------------------------------------------------------------------------------------------------------"
   ]
  },
  {
   "cell_type": "markdown",
   "metadata": {},
   "source": [
    "Que: - Initialize with two centroids, (3, 2) and (4, 8). Use Manhattan distance as the distance metric. Please use K-Means to find two clusters."
   ]
  },
  {
   "cell_type": "code",
   "execution_count": 635,
   "metadata": {},
   "outputs": [
    {
     "name": "stdout",
     "output_type": "stream",
     "text": [
      "Iteration 0\n",
      "Current Cluster SSE= 116\n",
      "Previous Cluster SSE= None\n",
      "--------------------------------------------------------------------------------\n",
      "Iteration 1\n",
      "Current Cluster SSE= 74.0\n",
      "Previous Cluster SSE= 116\n",
      "--------------------------------------------------------------------------------\n",
      "-+--+--+--+--+--+--+--+--+--+--+--+--+--+--+--+--+--+--+--+-\n",
      "Number of Iterations= 2\n",
      "Final Sum of Square Error= 74.0\n",
      "-+--+--+--+--+--+--+--+--+--+--+--+--+--+--+--+--+--+--+--+-\n"
     ]
    },
    {
     "data": {
      "image/png": "[encoded data removed]",
      "text/plain": [
       "<Figure size 432x288 with 1 Axes>"
      ]
     },
     "metadata": {
      "needs_background": "light"
     },
     "output_type": "display_data"
    }
   ],
   "source": [
    "kmeansWithMultipleMetrics(football_df, X, [[3,2], [4,8]])"
   ]
  },
  {
   "cell_type": "markdown",
   "metadata": {},
   "source": [
    "-----------------------------------------------------------------------------------------------------------------"
   ]
  },
  {
   "cell_type": "code",
   "execution_count": 636,
   "metadata": {},
   "outputs": [],
   "source": [
    "colName=['sepal_length','sepal_width','petal_length','petal_width','class']\n",
    "irisDataset=pd.read_csv(\"irisD.data\",names=colName)"
   ]
  },
  {
   "cell_type": "code",
   "execution_count": 637,
   "metadata": {},
   "outputs": [
    {
     "data": {
      "text/html": [
       "<div>\n",
       "<style scoped>\n",
       "    .dataframe tbody tr th:only-of-type {\n",
       "        vertical-align: middle;\n",
       "    }\n",
       "\n",
       "    .dataframe tbody tr th {\n",
       "        vertical-align: top;\n",
       "    }\n",
       "\n",
       "    .dataframe thead th {\n",
       "        text-align: right;\n",
       "    }\n",
       "</style>\n",
       "<table border=\"1\" class=\"dataframe\">\n",
       "  <thead>\n",
       "    <tr style=\"text-align: right;\">\n",
       "      <th></th>\n",
       "      <th>sepal_length</th>\n",
       "      <th>sepal_width</th>\n",
       "      <th>petal_length</th>\n",
       "      <th>petal_width</th>\n",
       "    </tr>\n",
       "  </thead>\n",
       "  <tbody>\n",
       "    <tr>\n",
       "      <td>count</td>\n",
       "      <td>150.000000</td>\n",
       "      <td>150.000000</td>\n",
       "      <td>150.000000</td>\n",
       "      <td>150.000000</td>\n",
       "    </tr>\n",
       "    <tr>\n",
       "      <td>mean</td>\n",
       "      <td>5.843333</td>\n",
       "      <td>3.057333</td>\n",
       "      <td>3.758000</td>\n",
       "      <td>1.199333</td>\n",
       "    </tr>\n",
       "    <tr>\n",
       "      <td>std</td>\n",
       "      <td>0.828066</td>\n",
       "      <td>0.435866</td>\n",
       "      <td>1.765298</td>\n",
       "      <td>0.762238</td>\n",
       "    </tr>\n",
       "    <tr>\n",
       "      <td>min</td>\n",
       "      <td>4.300000</td>\n",
       "      <td>2.000000</td>\n",
       "      <td>1.000000</td>\n",
       "      <td>0.100000</td>\n",
       "    </tr>\n",
       "    <tr>\n",
       "      <td>25%</td>\n",
       "      <td>5.100000</td>\n",
       "      <td>2.800000</td>\n",
       "      <td>1.600000</td>\n",
       "      <td>0.300000</td>\n",
       "    </tr>\n",
       "    <tr>\n",
       "      <td>50%</td>\n",
       "      <td>5.800000</td>\n",
       "      <td>3.000000</td>\n",
       "      <td>4.350000</td>\n",
       "      <td>1.300000</td>\n",
       "    </tr>\n",
       "    <tr>\n",
       "      <td>75%</td>\n",
       "      <td>6.400000</td>\n",
       "      <td>3.300000</td>\n",
       "      <td>5.100000</td>\n",
       "      <td>1.800000</td>\n",
       "    </tr>\n",
       "    <tr>\n",
       "      <td>max</td>\n",
       "      <td>7.900000</td>\n",
       "      <td>4.400000</td>\n",
       "      <td>6.900000</td>\n",
       "      <td>2.500000</td>\n",
       "    </tr>\n",
       "  </tbody>\n",
       "</table>\n",
       "</div>"
      ],
      "text/plain": [
       "       sepal_length  sepal_width  petal_length  petal_width\n",
       "count    150.000000   150.000000    150.000000   150.000000\n",
       "mean       5.843333     3.057333      3.758000     1.199333\n",
       "std        0.828066     0.435866      1.765298     0.762238\n",
       "min        4.300000     2.000000      1.000000     0.100000\n",
       "25%        5.100000     2.800000      1.600000     0.300000\n",
       "50%        5.800000     3.000000      4.350000     1.300000\n",
       "75%        6.400000     3.300000      5.100000     1.800000\n",
       "max        7.900000     4.400000      6.900000     2.500000"
      ]
     },
     "execution_count": 637,
     "metadata": {},
     "output_type": "execute_result"
    }
   ],
   "source": [
    "irisDataset.describe()"
   ]
  },
  {
   "cell_type": "code",
   "execution_count": 638,
   "metadata": {},
   "outputs": [],
   "source": [
    "irisFeatures=irisDataset.iloc[:,:-1].values \n",
    "irisGroundTruths=irisDataset.iloc[:,4].values "
   ]
  },
  {
   "cell_type": "code",
   "execution_count": 639,
   "metadata": {},
   "outputs": [
    {
     "data": {
      "text/plain": [
       "array([[5.1, 3.5, 1.4, 0.2],\n",
       "       [4.9, 3. , 1.4, 0.2],\n",
       "       [4.7, 3.2, 1.3, 0.2],\n",
       "       [4.6, 3.1, 1.5, 0.2],\n",
       "       [5. , 3.6, 1.4, 0.2],\n",
       "       [5.4, 3.9, 1.7, 0.4],\n",
       "       [4.6, 3.4, 1.4, 0.3],\n",
       "       [5. , 3.4, 1.5, 0.2],\n",
       "       [4.4, 2.9, 1.4, 0.2],\n",
       "       [4.9, 3.1, 1.5, 0.1],\n",
       "       [5.4, 3.7, 1.5, 0.2],\n",
       "       [4.8, 3.4, 1.6, 0.2],\n",
       "       [4.8, 3. , 1.4, 0.1],\n",
       "       [4.3, 3. , 1.1, 0.1],\n",
       "       [5.8, 4. , 1.2, 0.2],\n",
       "       [5.7, 4.4, 1.5, 0.4],\n",
       "       [5.4, 3.9, 1.3, 0.4],\n",
       "       [5.1, 3.5, 1.4, 0.3],\n",
       "       [5.7, 3.8, 1.7, 0.3],\n",
       "       [5.1, 3.8, 1.5, 0.3],\n",
       "       [5.4, 3.4, 1.7, 0.2],\n",
       "       [5.1, 3.7, 1.5, 0.4],\n",
       "       [4.6, 3.6, 1. , 0.2],\n",
       "       [5.1, 3.3, 1.7, 0.5],\n",
       "       [4.8, 3.4, 1.9, 0.2],\n",
       "       [5. , 3. , 1.6, 0.2],\n",
       "       [5. , 3.4, 1.6, 0.4],\n",
       "       [5.2, 3.5, 1.5, 0.2],\n",
       "       [5.2, 3.4, 1.4, 0.2],\n",
       "       [4.7, 3.2, 1.6, 0.2],\n",
       "       [4.8, 3.1, 1.6, 0.2],\n",
       "       [5.4, 3.4, 1.5, 0.4],\n",
       "       [5.2, 4.1, 1.5, 0.1],\n",
       "       [5.5, 4.2, 1.4, 0.2],\n",
       "       [4.9, 3.1, 1.5, 0.2],\n",
       "       [5. , 3.2, 1.2, 0.2],\n",
       "       [5.5, 3.5, 1.3, 0.2],\n",
       "       [4.9, 3.6, 1.4, 0.1],\n",
       "       [4.4, 3. , 1.3, 0.2],\n",
       "       [5.1, 3.4, 1.5, 0.2],\n",
       "       [5. , 3.5, 1.3, 0.3],\n",
       "       [4.5, 2.3, 1.3, 0.3],\n",
       "       [4.4, 3.2, 1.3, 0.2],\n",
       "       [5. , 3.5, 1.6, 0.6],\n",
       "       [5.1, 3.8, 1.9, 0.4],\n",
       "       [4.8, 3. , 1.4, 0.3],\n",
       "       [5.1, 3.8, 1.6, 0.2],\n",
       "       [4.6, 3.2, 1.4, 0.2],\n",
       "       [5.3, 3.7, 1.5, 0.2],\n",
       "       [5. , 3.3, 1.4, 0.2],\n",
       "       [7. , 3.2, 4.7, 1.4],\n",
       "       [6.4, 3.2, 4.5, 1.5],\n",
       "       [6.9, 3.1, 4.9, 1.5],\n",
       "       [5.5, 2.3, 4. , 1.3],\n",
       "       [6.5, 2.8, 4.6, 1.5],\n",
       "       [5.7, 2.8, 4.5, 1.3],\n",
       "       [6.3, 3.3, 4.7, 1.6],\n",
       "       [4.9, 2.4, 3.3, 1. ],\n",
       "       [6.6, 2.9, 4.6, 1.3],\n",
       "       [5.2, 2.7, 3.9, 1.4],\n",
       "       [5. , 2. , 3.5, 1. ],\n",
       "       [5.9, 3. , 4.2, 1.5],\n",
       "       [6. , 2.2, 4. , 1. ],\n",
       "       [6.1, 2.9, 4.7, 1.4],\n",
       "       [5.6, 2.9, 3.6, 1.3],\n",
       "       [6.7, 3.1, 4.4, 1.4],\n",
       "       [5.6, 3. , 4.5, 1.5],\n",
       "       [5.8, 2.7, 4.1, 1. ],\n",
       "       [6.2, 2.2, 4.5, 1.5],\n",
       "       [5.6, 2.5, 3.9, 1.1],\n",
       "       [5.9, 3.2, 4.8, 1.8],\n",
       "       [6.1, 2.8, 4. , 1.3],\n",
       "       [6.3, 2.5, 4.9, 1.5],\n",
       "       [6.1, 2.8, 4.7, 1.2],\n",
       "       [6.4, 2.9, 4.3, 1.3],\n",
       "       [6.6, 3. , 4.4, 1.4],\n",
       "       [6.8, 2.8, 4.8, 1.4],\n",
       "       [6.7, 3. , 5. , 1.7],\n",
       "       [6. , 2.9, 4.5, 1.5],\n",
       "       [5.7, 2.6, 3.5, 1. ],\n",
       "       [5.5, 2.4, 3.8, 1.1],\n",
       "       [5.5, 2.4, 3.7, 1. ],\n",
       "       [5.8, 2.7, 3.9, 1.2],\n",
       "       [6. , 2.7, 5.1, 1.6],\n",
       "       [5.4, 3. , 4.5, 1.5],\n",
       "       [6. , 3.4, 4.5, 1.6],\n",
       "       [6.7, 3.1, 4.7, 1.5],\n",
       "       [6.3, 2.3, 4.4, 1.3],\n",
       "       [5.6, 3. , 4.1, 1.3],\n",
       "       [5.5, 2.5, 4. , 1.3],\n",
       "       [5.5, 2.6, 4.4, 1.2],\n",
       "       [6.1, 3. , 4.6, 1.4],\n",
       "       [5.8, 2.6, 4. , 1.2],\n",
       "       [5. , 2.3, 3.3, 1. ],\n",
       "       [5.6, 2.7, 4.2, 1.3],\n",
       "       [5.7, 3. , 4.2, 1.2],\n",
       "       [5.7, 2.9, 4.2, 1.3],\n",
       "       [6.2, 2.9, 4.3, 1.3],\n",
       "       [5.1, 2.5, 3. , 1.1],\n",
       "       [5.7, 2.8, 4.1, 1.3],\n",
       "       [6.3, 3.3, 6. , 2.5],\n",
       "       [5.8, 2.7, 5.1, 1.9],\n",
       "       [7.1, 3. , 5.9, 2.1],\n",
       "       [6.3, 2.9, 5.6, 1.8],\n",
       "       [6.5, 3. , 5.8, 2.2],\n",
       "       [7.6, 3. , 6.6, 2.1],\n",
       "       [4.9, 2.5, 4.5, 1.7],\n",
       "       [7.3, 2.9, 6.3, 1.8],\n",
       "       [6.7, 2.5, 5.8, 1.8],\n",
       "       [7.2, 3.6, 6.1, 2.5],\n",
       "       [6.5, 3.2, 5.1, 2. ],\n",
       "       [6.4, 2.7, 5.3, 1.9],\n",
       "       [6.8, 3. , 5.5, 2.1],\n",
       "       [5.7, 2.5, 5. , 2. ],\n",
       "       [5.8, 2.8, 5.1, 2.4],\n",
       "       [6.4, 3.2, 5.3, 2.3],\n",
       "       [6.5, 3. , 5.5, 1.8],\n",
       "       [7.7, 3.8, 6.7, 2.2],\n",
       "       [7.7, 2.6, 6.9, 2.3],\n",
       "       [6. , 2.2, 5. , 1.5],\n",
       "       [6.9, 3.2, 5.7, 2.3],\n",
       "       [5.6, 2.8, 4.9, 2. ],\n",
       "       [7.7, 2.8, 6.7, 2. ],\n",
       "       [6.3, 2.7, 4.9, 1.8],\n",
       "       [6.7, 3.3, 5.7, 2.1],\n",
       "       [7.2, 3.2, 6. , 1.8],\n",
       "       [6.2, 2.8, 4.8, 1.8],\n",
       "       [6.1, 3. , 4.9, 1.8],\n",
       "       [6.4, 2.8, 5.6, 2.1],\n",
       "       [7.2, 3. , 5.8, 1.6],\n",
       "       [7.4, 2.8, 6.1, 1.9],\n",
       "       [7.9, 3.8, 6.4, 2. ],\n",
       "       [6.4, 2.8, 5.6, 2.2],\n",
       "       [6.3, 2.8, 5.1, 1.5],\n",
       "       [6.1, 2.6, 5.6, 1.4],\n",
       "       [7.7, 3. , 6.1, 2.3],\n",
       "       [6.3, 3.4, 5.6, 2.4],\n",
       "       [6.4, 3.1, 5.5, 1.8],\n",
       "       [6. , 3. , 4.8, 1.8],\n",
       "       [6.9, 3.1, 5.4, 2.1],\n",
       "       [6.7, 3.1, 5.6, 2.4],\n",
       "       [6.9, 3.1, 5.1, 2.3],\n",
       "       [5.8, 2.7, 5.1, 1.9],\n",
       "       [6.8, 3.2, 5.9, 2.3],\n",
       "       [6.7, 3.3, 5.7, 2.5],\n",
       "       [6.7, 3. , 5.2, 2.3],\n",
       "       [6.3, 2.5, 5. , 1.9],\n",
       "       [6.5, 3. , 5.2, 2. ],\n",
       "       [6.2, 3.4, 5.4, 2.3],\n",
       "       [5.9, 3. , 5.1, 1.8]])"
      ]
     },
     "execution_count": 639,
     "metadata": {},
     "output_type": "execute_result"
    }
   ],
   "source": [
    "irisFeatures"
   ]
  },
  {
   "cell_type": "code",
   "execution_count": 640,
   "metadata": {},
   "outputs": [],
   "source": [
    "labelEncoder=LabelEncoder()\n",
    "irisGroundTruths=labelEncoder.fit_transform(irisGroundTruths)"
   ]
  },
  {
   "cell_type": "code",
   "execution_count": 641,
   "metadata": {},
   "outputs": [
    {
     "data": {
      "text/plain": [
       "array([0, 0, 0, 0, 0, 0, 0, 0, 0, 0, 0, 0, 0, 0, 0, 0, 0, 0, 0, 0, 0, 0,\n",
       "       0, 0, 0, 0, 0, 0, 0, 0, 0, 0, 0, 0, 0, 0, 0, 0, 0, 0, 0, 0, 0, 0,\n",
       "       0, 0, 0, 0, 0, 0, 1, 1, 1, 1, 1, 1, 1, 1, 1, 1, 1, 1, 1, 1, 1, 1,\n",
       "       1, 1, 1, 1, 1, 1, 1, 1, 1, 1, 1, 1, 1, 1, 1, 1, 1, 1, 1, 1, 1, 1,\n",
       "       1, 1, 1, 1, 1, 1, 1, 1, 1, 1, 1, 1, 2, 2, 2, 2, 2, 2, 2, 2, 2, 2,\n",
       "       2, 2, 2, 2, 2, 2, 2, 2, 2, 2, 2, 2, 2, 2, 2, 2, 2, 2, 2, 2, 2, 2,\n",
       "       2, 2, 2, 2, 2, 2, 2, 2, 2, 2, 2, 2, 2, 2, 2, 2, 2, 2])"
      ]
     },
     "execution_count": 641,
     "metadata": {},
     "output_type": "execute_result"
    }
   ],
   "source": [
    "irisGroundTruths"
   ]
  },
  {
   "cell_type": "markdown",
   "metadata": {},
   "source": [
    "Que: - Run K-means clustering with Euclidean, Cosine and Jarcard similarity. Specify K= the number of categorical values of y (the variable of label). Compare the SSEs of Euclidean-K- means Cosine-K-means, Jarcard-K-means. Which method is better and why?"
   ]
  },
  {
   "cell_type": "markdown",
   "metadata": {},
   "source": [
    "## Euclidean Distance"
   ]
  },
  {
   "cell_type": "code",
   "execution_count": 642,
   "metadata": {},
   "outputs": [
    {
     "name": "stdout",
     "output_type": "stream",
     "text": [
      "Iteration 0\n",
      "Current Cluster SSE= 162.21\n",
      "Previous Cluster SSE= None\n",
      "--------------------------------------------------------------------------------\n",
      "Iteration 1\n",
      "Current Cluster SSE= 91.74345963435378\n",
      "Previous Cluster SSE= 162.21\n",
      "--------------------------------------------------------------------------------\n",
      "Iteration 2\n",
      "Current Cluster SSE= 83.02104835746147\n",
      "Previous Cluster SSE= 91.74345963435378\n",
      "--------------------------------------------------------------------------------\n",
      "Iteration 3\n",
      "Current Cluster SSE= 79.61572102298426\n",
      "Previous Cluster SSE= 83.02104835746147\n",
      "--------------------------------------------------------------------------------\n",
      "Iteration 4\n",
      "Current Cluster SSE= 79.01204896074461\n",
      "Previous Cluster SSE= 79.61572102298426\n",
      "--------------------------------------------------------------------------------\n",
      "Iteration 5\n",
      "Current Cluster SSE= 78.85144142614601\n",
      "Previous Cluster SSE= 79.01204896074461\n",
      "--------------------------------------------------------------------------------\n",
      "-+--+--+--+--+--+--+--+--+--+--+--+--+--+--+--+--+--+--+--+-\n",
      "Number of Iterations= 6\n",
      "Final Sum of Square Error= 78.85144142614601\n",
      "-+--+--+--+--+--+--+--+--+--+--+--+--+--+--+--+--+--+--+--+-\n"
     ]
    },
    {
     "data": {
      "text/plain": [
       "array([1, 1, 1, 1, 1, 1, 1, 1, 1, 1, 1, 1, 1, 1, 1, 1, 1, 1, 1, 1, 1, 1,\n",
       "       1, 1, 1, 1, 1, 1, 1, 1, 1, 1, 1, 1, 1, 1, 1, 1, 1, 1, 1, 1, 1, 1,\n",
       "       1, 1, 1, 1, 1, 1, 0, 0, 2, 0, 0, 0, 0, 0, 0, 0, 0, 0, 0, 0, 0, 0,\n",
       "       0, 0, 0, 0, 0, 0, 0, 0, 0, 0, 0, 2, 0, 0, 0, 0, 0, 0, 0, 0, 0, 0,\n",
       "       0, 0, 0, 0, 0, 0, 0, 0, 0, 0, 0, 0, 2, 0, 2, 2, 2, 2, 0, 2, 2, 2,\n",
       "       2, 2, 2, 0, 0, 2, 2, 2, 2, 0, 2, 0, 2, 0, 2, 2, 0, 0, 2, 2, 2, 2,\n",
       "       2, 0, 2, 2, 2, 2, 0, 2, 2, 2, 0, 2, 2, 2, 0, 2, 2, 0])"
      ]
     },
     "execution_count": 642,
     "metadata": {},
     "output_type": "execute_result"
    }
   ],
   "source": [
    "euclideanDistanceClusters = kmeans(irisFeatures, None, k=3, metric=1)\n",
    "euclideanDistanceClusters"
   ]
  },
  {
   "cell_type": "markdown",
   "metadata": {},
   "source": [
    "## Cosine Similarity "
   ]
  },
  {
   "cell_type": "code",
   "execution_count": 643,
   "metadata": {},
   "outputs": [
    {
     "name": "stdout",
     "output_type": "stream",
     "text": [
      "Iteration 0\n",
      "Current Cluster SSE= 252.45000000000007\n",
      "Previous Cluster SSE= None\n",
      "--------------------------------------------------------------------------------\n",
      "Iteration 1\n",
      "Current Cluster SSE= 109.36686658944242\n",
      "Previous Cluster SSE= 252.45000000000007\n",
      "--------------------------------------------------------------------------------\n",
      "Iteration 2\n",
      "Current Cluster SSE= 101.13367336186019\n",
      "Previous Cluster SSE= 109.36686658944242\n",
      "--------------------------------------------------------------------------------\n",
      "Iteration 3\n",
      "Current Cluster SSE= 92.93030809618764\n",
      "Previous Cluster SSE= 101.13367336186019\n",
      "--------------------------------------------------------------------------------\n",
      "Iteration 4\n",
      "Current Cluster SSE= 91.98930917874395\n",
      "Previous Cluster SSE= 92.93030809618764\n",
      "--------------------------------------------------------------------------------\n",
      "-+--+--+--+--+--+--+--+--+--+--+--+--+--+--+--+--+--+--+--+-\n",
      "Number of Iterations= 5\n",
      "Final Sum of Square Error= 91.98930917874395\n",
      "-+--+--+--+--+--+--+--+--+--+--+--+--+--+--+--+--+--+--+--+-\n"
     ]
    },
    {
     "data": {
      "text/plain": [
       "array([1, 1, 1, 1, 1, 1, 1, 1, 1, 1, 1, 1, 1, 1, 1, 1, 1, 1, 1, 1, 1, 1,\n",
       "       1, 1, 1, 1, 1, 1, 1, 1, 1, 1, 1, 1, 1, 1, 1, 1, 1, 1, 1, 1, 1, 1,\n",
       "       1, 1, 1, 1, 1, 1, 0, 0, 0, 0, 0, 0, 0, 0, 0, 0, 0, 0, 0, 0, 0, 0,\n",
       "       0, 0, 0, 0, 2, 0, 2, 0, 0, 0, 0, 0, 0, 0, 0, 0, 0, 2, 2, 0, 0, 0,\n",
       "       0, 0, 0, 0, 0, 0, 0, 0, 0, 0, 0, 0, 2, 2, 2, 2, 2, 2, 2, 2, 2, 2,\n",
       "       2, 2, 2, 2, 2, 2, 2, 2, 2, 2, 2, 2, 2, 2, 2, 2, 2, 2, 2, 2, 2, 2,\n",
       "       2, 2, 2, 2, 2, 2, 2, 2, 2, 2, 2, 2, 2, 2, 2, 2, 2, 2])"
      ]
     },
     "execution_count": 643,
     "metadata": {},
     "output_type": "execute_result"
    }
   ],
   "source": [
    "cosineSimilarityClusters = kmeans(irisFeatures, None, k=3, metric=2)\n",
    "cosineSimilarityClusters"
   ]
  },
  {
   "cell_type": "markdown",
   "metadata": {},
   "source": [
    "## Jaccard Similarity"
   ]
  },
  {
   "cell_type": "code",
   "execution_count": 644,
   "metadata": {},
   "outputs": [
    {
     "name": "stdout",
     "output_type": "stream",
     "text": [
      "Iteration 0\n",
      "Current Cluster SSE= 166.01\n",
      "Previous Cluster SSE= None\n",
      "--------------------------------------------------------------------------------\n",
      "Iteration 1\n",
      "Current Cluster SSE= 86.32123489331185\n",
      "Previous Cluster SSE= 166.01\n",
      "--------------------------------------------------------------------------------\n",
      "Iteration 2\n",
      "Current Cluster SSE= 79.39432885317473\n",
      "Previous Cluster SSE= 86.32123489331185\n",
      "--------------------------------------------------------------------------------\n",
      "Iteration 3\n",
      "Current Cluster SSE= 79.16344154984179\n",
      "Previous Cluster SSE= 79.39432885317473\n",
      "--------------------------------------------------------------------------------\n",
      "Iteration 4\n",
      "Current Cluster SSE= 79.09734974533107\n",
      "Previous Cluster SSE= 79.16344154984179\n",
      "--------------------------------------------------------------------------------\n",
      "-+--+--+--+--+--+--+--+--+--+--+--+--+--+--+--+--+--+--+--+-\n",
      "Number of Iterations= 5\n",
      "Final Sum of Square Error= 79.09734974533107\n",
      "-+--+--+--+--+--+--+--+--+--+--+--+--+--+--+--+--+--+--+--+-\n"
     ]
    },
    {
     "data": {
      "text/plain": [
       "array([1, 1, 1, 1, 1, 1, 1, 1, 1, 1, 1, 1, 1, 1, 1, 1, 1, 1, 1, 1, 1, 1,\n",
       "       1, 1, 1, 1, 1, 1, 1, 1, 1, 1, 1, 1, 1, 1, 1, 1, 1, 1, 1, 1, 1, 1,\n",
       "       1, 1, 1, 1, 1, 1, 2, 0, 2, 0, 0, 0, 0, 0, 0, 0, 0, 0, 0, 0, 0, 0,\n",
       "       0, 0, 0, 0, 0, 0, 0, 0, 0, 0, 0, 2, 0, 0, 0, 0, 0, 0, 0, 0, 0, 0,\n",
       "       0, 0, 0, 0, 0, 0, 0, 0, 0, 0, 0, 0, 2, 0, 2, 2, 2, 2, 0, 2, 2, 2,\n",
       "       2, 2, 2, 0, 0, 2, 2, 2, 2, 0, 2, 0, 2, 0, 2, 2, 0, 0, 2, 2, 2, 2,\n",
       "       2, 0, 0, 2, 2, 2, 0, 2, 2, 2, 0, 2, 2, 2, 0, 2, 2, 0])"
      ]
     },
     "execution_count": 644,
     "metadata": {},
     "output_type": "execute_result"
    }
   ],
   "source": [
    "jaccardSimilarityClusters = kmeans(irisFeatures, None, k=3, metric=3)\n",
    "jaccardSimilarityClusters"
   ]
  },
  {
   "cell_type": "markdown",
   "metadata": {},
   "source": [
    "<b>Ans: - </b><br>\n",
    "Sum of Square Errors: -\n",
    "1. Euclidean Distance = 78.85144142614601\n",
    "2. Cosine Similarity = 91.98930917874395\n",
    "3. Jaccard Similarity = 79.09734974533107"
   ]
  },
  {
   "cell_type": "markdown",
   "metadata": {},
   "source": [
    "-----------------------------------------------------------------------------------------------------------------"
   ]
  },
  {
   "cell_type": "markdown",
   "metadata": {},
   "source": [
    "Que: - Comparethe accuracies of Euclidean-K-means Cosine-K-means, Jarcard-K-means. First, label each cluster with thelabel ofthe highestvotes. Later, compute the accuracy of the K-means with respect to the three similarity metrics.Which metric is better and why?"
   ]
  },
  {
   "cell_type": "code",
   "execution_count": 645,
   "metadata": {},
   "outputs": [
    {
     "name": "stdout",
     "output_type": "stream",
     "text": [
      "Accuracy of Euclidean Distance Metric= 0.89\n",
      "Accuracy of Cosine Similarity Metric= 0.97\n",
      "Accuracy of Jaccard Similarity Metric= 0.88\n"
     ]
    }
   ],
   "source": [
    "for clusters, method in zip((euclidean_clusters, cosine_clusters, jaccard_clusters), ('Euclidean Distance', 'Cosine Similarity', 'Jaccard Similarity')):\n",
    "    acc = accuracy_score(irisGroundTruths, predictClass(clusters, irisGroundTruths,k=3))\n",
    "    print('Accuracy of {} Metric= {:.2f}'.format(method, acc))"
   ]
  },
  {
   "cell_type": "markdown",
   "metadata": {},
   "source": [
    "As per above observation we can see Cosine Similarity Metric has 0.97 accuracy. <br>\n",
    "Cosine looks at the <b>angle</b> between vectors it does not consider their weight or magnitude. Euclidean distance is similar to using a <b>ruler</b> to actually measure the distance."
   ]
  },
  {
   "cell_type": "markdown",
   "metadata": {},
   "source": [
    "-----------------------------------------------------------------------------------------------------------------"
   ]
  },
  {
   "cell_type": "markdown",
   "metadata": {},
   "source": [
    "Que: - Which of Euclidean-K-means, Cosine-K-means, Jarcard-K-means requires more iterations and times and why?"
   ]
  },
  {
   "cell_type": "markdown",
   "metadata": {},
   "source": [
    "<b>Ans: -</b><br>\n",
    "From above obeservations Euclidean-K-Means takes more iterations than cosine and jaccard. Because it checks for more centroids than cosine and jaccard. As for each iteration cluster centroid updated and checked for the cluster points. It can't handle outliers well thus it takes time to calculate the distance. Outliers should be excluded from the dataset."
   ]
  },
  {
   "cell_type": "markdown",
   "metadata": {},
   "source": [
    "-----------------------------------------------------------------------------------------------------------------"
   ]
  },
  {
   "cell_type": "markdown",
   "metadata": {},
   "source": [
    "Que: - Compare the SSEs of Euclidean-K-means Cosine-K-means, Jarcard-K-means with respect to the following three terminating conditions: \n",
    "1. when there is no change in centroid position \n",
    "2. when the SSE value increases in the next iteration \n",
    "3. when the maximum preset value (100) of iteration is complete \n",
    "<br>Which method requires more time or more iterations and why?"
   ]
  },
  {
   "cell_type": "code",
   "execution_count": 646,
   "metadata": {},
   "outputs": [
    {
     "name": "stdout",
     "output_type": "stream",
     "text": [
      "Iteration 0\n",
      "Current Cluster SSE= 137.5\n",
      "Previous Cluster SSE= None\n",
      "--------------------------------------------------------------------------------\n",
      "Iteration 1\n",
      "Current Cluster SSE= 84.7045391377853\n",
      "Previous Cluster SSE= 137.5\n",
      "--------------------------------------------------------------------------------\n",
      "Iteration 2\n",
      "Current Cluster SSE= 83.81507868073713\n",
      "Previous Cluster SSE= 84.7045391377853\n",
      "--------------------------------------------------------------------------------\n",
      "Iteration 3\n",
      "Current Cluster SSE= 83.04698186876976\n",
      "Previous Cluster SSE= 83.81507868073713\n",
      "--------------------------------------------------------------------------------\n",
      "Iteration 4\n",
      "Current Cluster SSE= 81.74960206772623\n",
      "Previous Cluster SSE= 83.04698186876976\n",
      "--------------------------------------------------------------------------------\n",
      "Iteration 5\n",
      "Current Cluster SSE= 80.80637600000003\n",
      "Previous Cluster SSE= 81.74960206772623\n",
      "--------------------------------------------------------------------------------\n",
      "Iteration 6\n",
      "Current Cluster SSE= 79.87357983461304\n",
      "Previous Cluster SSE= 80.80637600000003\n",
      "--------------------------------------------------------------------------------\n",
      "Iteration 7\n",
      "Current Cluster SSE= 79.34436414532675\n",
      "Previous Cluster SSE= 79.87357983461304\n",
      "--------------------------------------------------------------------------------\n",
      "Iteration 8\n",
      "Current Cluster SSE= 78.92130972222222\n",
      "Previous Cluster SSE= 79.34436414532675\n",
      "--------------------------------------------------------------------------------\n",
      "Iteration 9\n",
      "Current Cluster SSE= 78.85566582597731\n",
      "Previous Cluster SSE= 78.92130972222222\n",
      "--------------------------------------------------------------------------------\n",
      "-+--+--+--+--+--+--+--+--+--+--+--+--+--+--+--+--+--+--+--+-\n",
      "Number of Iterations= 10\n",
      "Final Sum of Square Error= 78.85566582597731\n",
      "-+--+--+--+--+--+--+--+--+--+--+--+--+--+--+--+--+--+--+--+-\n"
     ]
    },
    {
     "data": {
      "text/plain": [
       "array([1, 1, 1, 1, 1, 1, 1, 1, 1, 1, 1, 1, 1, 1, 1, 1, 1, 1, 1, 1, 1, 1,\n",
       "       1, 1, 1, 1, 1, 1, 1, 1, 1, 1, 1, 1, 1, 1, 1, 1, 1, 1, 1, 1, 1, 1,\n",
       "       1, 1, 1, 1, 1, 1, 0, 2, 0, 2, 2, 2, 2, 2, 2, 2, 2, 2, 2, 2, 2, 2,\n",
       "       2, 2, 2, 2, 2, 2, 2, 2, 2, 2, 2, 0, 2, 2, 2, 2, 2, 2, 2, 2, 2, 2,\n",
       "       2, 2, 2, 2, 2, 2, 2, 2, 2, 2, 2, 2, 0, 2, 0, 0, 0, 0, 2, 0, 0, 0,\n",
       "       0, 0, 0, 2, 2, 0, 0, 0, 0, 2, 0, 2, 0, 2, 0, 0, 2, 2, 0, 0, 0, 0,\n",
       "       0, 2, 0, 0, 0, 0, 2, 0, 0, 0, 2, 0, 0, 0, 2, 0, 0, 2])"
      ]
     },
     "execution_count": 646,
     "metadata": {},
     "output_type": "execute_result"
    }
   ],
   "source": [
    "sameCentroidEuclidean = kmeans(irisFeatures, [[6.3, 2.5, 5. , 1.9],[4.9, 3. , 1.4, 0.2],[5.4, 3. , 4.5, 1.5]], k=3, metric=1)\n",
    "sameCentroidEuclidean"
   ]
  },
  {
   "cell_type": "code",
   "execution_count": 647,
   "metadata": {},
   "outputs": [
    {
     "name": "stdout",
     "output_type": "stream",
     "text": [
      "Iteration 0\n",
      "Current Cluster SSE= 176.71999999999997\n",
      "Previous Cluster SSE= None\n",
      "--------------------------------------------------------------------------------\n",
      "Iteration 1\n",
      "Current Cluster SSE= 119.32111604641861\n",
      "Previous Cluster SSE= 176.71999999999997\n",
      "--------------------------------------------------------------------------------\n",
      "Iteration 2\n",
      "Current Cluster SSE= 93.0971863464874\n",
      "Previous Cluster SSE= 119.32111604641861\n",
      "--------------------------------------------------------------------------------\n",
      "Iteration 3\n",
      "Current Cluster SSE= 92.11861836952653\n",
      "Previous Cluster SSE= 93.0971863464874\n",
      "--------------------------------------------------------------------------------\n",
      "Iteration 4\n",
      "Current Cluster SSE= 91.98930917874395\n",
      "Previous Cluster SSE= 92.11861836952653\n",
      "--------------------------------------------------------------------------------\n",
      "-+--+--+--+--+--+--+--+--+--+--+--+--+--+--+--+--+--+--+--+-\n",
      "Number of Iterations= 5\n",
      "Final Sum of Square Error= 91.98930917874395\n",
      "-+--+--+--+--+--+--+--+--+--+--+--+--+--+--+--+--+--+--+--+-\n"
     ]
    },
    {
     "data": {
      "text/plain": [
       "array([1, 1, 1, 1, 1, 1, 1, 1, 1, 1, 1, 1, 1, 1, 1, 1, 1, 1, 1, 1, 1, 1,\n",
       "       1, 1, 1, 1, 1, 1, 1, 1, 1, 1, 1, 1, 1, 1, 1, 1, 1, 1, 1, 1, 1, 1,\n",
       "       1, 1, 1, 1, 1, 1, 2, 2, 2, 2, 2, 2, 2, 2, 2, 2, 2, 2, 2, 2, 2, 2,\n",
       "       2, 2, 2, 2, 0, 2, 0, 2, 2, 2, 2, 2, 2, 2, 2, 2, 2, 0, 0, 2, 2, 2,\n",
       "       2, 2, 2, 2, 2, 2, 2, 2, 2, 2, 2, 2, 0, 0, 0, 0, 0, 0, 0, 0, 0, 0,\n",
       "       0, 0, 0, 0, 0, 0, 0, 0, 0, 0, 0, 0, 0, 0, 0, 0, 0, 0, 0, 0, 0, 0,\n",
       "       0, 0, 0, 0, 0, 0, 0, 0, 0, 0, 0, 0, 0, 0, 0, 0, 0, 0])"
      ]
     },
     "execution_count": 647,
     "metadata": {},
     "output_type": "execute_result"
    }
   ],
   "source": [
    "sameCentroidCosine = kmeans(irisFeatures, [[6.3, 2.5, 5. , 1.9],[4.9, 3. , 1.4, 0.2],[5.4, 3. , 4.5, 1.5]], k=3, metric=2)\n",
    "sameCentroidCosine"
   ]
  },
  {
   "cell_type": "code",
   "execution_count": 648,
   "metadata": {},
   "outputs": [
    {
     "name": "stdout",
     "output_type": "stream",
     "text": [
      "Iteration 0\n",
      "Current Cluster SSE= 142.44\n",
      "Previous Cluster SSE= None\n",
      "--------------------------------------------------------------------------------\n",
      "Iteration 1\n",
      "Current Cluster SSE= 84.0105033701264\n",
      "Previous Cluster SSE= 142.44\n",
      "--------------------------------------------------------------------------------\n",
      "Iteration 2\n",
      "Current Cluster SSE= 84.94117523140844\n",
      "Previous Cluster SSE= 84.0105033701264\n",
      "--------------------------------------------------------------------------------\n",
      "-+--+--+--+--+--+--+--+--+--+--+--+--+--+--+--+--+--+--+--+-\n",
      "Number of Iterations= 3\n",
      "Final Sum of Square Error= 84.0105033701264\n",
      "-+--+--+--+--+--+--+--+--+--+--+--+--+--+--+--+--+--+--+--+-\n"
     ]
    },
    {
     "data": {
      "text/plain": [
       "array([1, 1, 1, 1, 1, 1, 1, 1, 1, 1, 1, 1, 1, 1, 1, 1, 1, 1, 1, 1, 1, 1,\n",
       "       1, 1, 1, 1, 1, 1, 1, 1, 1, 1, 1, 1, 1, 1, 1, 1, 1, 1, 1, 1, 1, 1,\n",
       "       1, 1, 1, 1, 1, 1, 0, 2, 0, 2, 0, 2, 0, 2, 2, 2, 2, 2, 2, 2, 2, 2,\n",
       "       2, 2, 2, 2, 0, 2, 0, 2, 2, 2, 0, 0, 2, 2, 2, 2, 2, 0, 2, 2, 0, 2,\n",
       "       2, 2, 2, 2, 2, 2, 2, 2, 2, 2, 2, 2, 0, 0, 0, 0, 0, 0, 2, 0, 0, 0,\n",
       "       0, 0, 0, 0, 0, 0, 0, 0, 0, 2, 0, 0, 0, 0, 0, 0, 0, 0, 0, 0, 0, 0,\n",
       "       0, 0, 0, 0, 0, 0, 0, 0, 0, 0, 0, 0, 0, 0, 0, 0, 0, 0])"
      ]
     },
     "execution_count": 648,
     "metadata": {},
     "output_type": "execute_result"
    }
   ],
   "source": [
    "sameCentroidJaccard = kmeans(irisFeatures, [[6.3, 2.5, 5. , 1.9],[4.9, 3. , 1.4, 0.2],[5.4, 3. , 4.5, 1.5]], k=3, metric=3)\n",
    "sameCentroidJaccard"
   ]
  },
  {
   "cell_type": "markdown",
   "metadata": {},
   "source": [
    "<b>Ans: -</b><br>\n",
    "From above obeservations Euclidean-K-Means takes more iterations than cosine and jaccard. Because it checks for more centroids than cosine and jaccard. As for each iteration cluster centroid updated and checked for the cluster points. It can't handle outliers well thus it takes time to calculate the distance. Outliers should be excluded from the dataset."
   ]
  },
  {
   "cell_type": "markdown",
   "metadata": {},
   "source": [
    "-----------------------------------------------------------------------------------------------------------------"
   ]
  },
  {
   "cell_type": "markdown",
   "metadata": {},
   "source": [
    "Que: - List the general idea of K-means clustering algorithm? "
   ]
  },
  {
   "cell_type": "markdown",
   "metadata": {},
   "source": [
    "<b>Ans: -</b> <br>\n",
    "Step 1: - K initial \"means\" or centroids are randomly generated within the data domain.<br>\n",
    "Step 2: - Clusters are created by associating every observation with the nearest mean. <br>\n",
    "Step 3: - New centroids are calculated for the clusters. <br>\n",
    "Step 4: - Steps 2 and 3 are repeated until desired result has been recieved."
   ]
  },
  {
   "cell_type": "markdown",
   "metadata": {},
   "source": [
    "-----------------------------------------------------------------------------------------------------------------"
   ]
  },
  {
   "cell_type": "markdown",
   "metadata": {},
   "source": [
    "Que: - Please give a scenario in which K-means cluster may not work very well? "
   ]
  },
  {
   "cell_type": "markdown",
   "metadata": {},
   "source": [
    "<b>Ans: -</b><br>\n",
    "When you have a noisy dataset, i.e., outliners in your dataset. It may create another cluster for itself, or it will be added to another cluster. Which can make predict wrong outputs. Thus removing this outliners is important."
   ]
  },
  {
   "cell_type": "markdown",
   "metadata": {},
   "source": [
    "-----------------------------------------------------------------------------------------------------------------"
   ]
  },
  {
   "cell_type": "markdown",
   "metadata": {},
   "source": [
    "Que: - What is the advantage of K-Means? What are the disadvantages of K-Means?"
   ]
  },
  {
   "cell_type": "markdown",
   "metadata": {},
   "source": [
    "<b>Ans: -</b><br>\n",
    "Advantages: -<br>\n",
    "1. K - means is easy to implement.\n",
    "2. Scalable to large data sets.\n",
    "3. Easily adapts to new examples.\n",
    "4. Generalizes to clusters of different shapes and sizes.\n",
    "\n",
    "Disadvantages: -<br>\n",
    "1. Choosing k value manually is difficult.\n",
    "2. When clusters have varying sizes and density then k-means performs poorly.\n",
    "3. Noisy data (Outliners in dataset).\n"
   ]
  },
  {
   "cell_type": "markdown",
   "metadata": {},
   "source": [
    "-----------------------------------------------------------------------------------------------------------------"
   ]
  },
  {
   "cell_type": "markdown",
   "metadata": {},
   "source": [
    "Que: - The classic K-means algorithm randomly initializes K centers. Is there any better strategy for selecting K initial centers?"
   ]
  },
  {
   "cell_type": "markdown",
   "metadata": {},
   "source": [
    "<b>Ans: - </b><br>\n",
    "Silhouette score: - It checks how well an observation is clustered and it calculates the average distance between clusters. It wants to find the optimal number of clusters that produce a subdivision of the dataset to dense blocks that are well separated from each other."
   ]
  }
 ],
 "metadata": {
  "kernelspec": {
   "display_name": "Python 3",
   "language": "python",
   "name": "python3"
  },
  "language_info": {
   "codemirror_mode": {
    "name": "ipython",
    "version": 3
   },
   "file_extension": ".py",
   "mimetype": "text/x-python",
   "name": "python",
   "nbconvert_exporter": "python",
   "pygments_lexer": "ipython3",
   "version": "3.7.4"
  }
 },
 "nbformat": 4,
 "nbformat_minor": 2
}
